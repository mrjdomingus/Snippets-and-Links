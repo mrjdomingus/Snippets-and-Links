{
 "cells": [
  {
   "cell_type": "code",
   "execution_count": null,
   "metadata": {},
   "outputs": [],
   "source": [
    "import pandas as pd\n",
    "import re\n",
    "import datetime"
   ]
  },
  {
   "cell_type": "code",
   "execution_count": null,
   "metadata": {},
   "outputs": [],
   "source": [
    "# Import CSV file\n",
    "csv_file = \"C:/AAA/FNSteel_Expensive_Queries.csv\"\n",
    "df = pd.read_csv(csv_file)"
   ]
  },
  {
   "cell_type": "code",
   "execution_count": null,
   "metadata": {},
   "outputs": [],
   "source": [
    "# What is the structure of the data frame?\n",
    "df.info()"
   ]
  },
  {
   "cell_type": "code",
   "execution_count": null,
   "metadata": {},
   "outputs": [],
   "source": [
    "# Take a peek\n",
    "df.head()"
   ]
  },
  {
   "cell_type": "code",
   "execution_count": null,
   "metadata": {},
   "outputs": [],
   "source": [
    "# Function to convert decimal point to decimal comma\n",
    "class CommaFloatFormatter:\n",
    "    def __mod__(self, x):\n",
    "        return str(x).replace('.',',')"
   ]
  },
  {
   "cell_type": "code",
   "execution_count": null,
   "metadata": {},
   "outputs": [],
   "source": [
    "def conv_last_execution_time(unixtime_str):\n",
    "    m = re.search(r\"\\((\\d*)\\)\", unixtime_str)\n",
    "    unixtime = m.group(1)\n",
    "    # Convert string to int\n",
    "    unixtime = int(unixtime)\n",
    "    # Divide by 1000 to convert to time.time format (floating point number)\n",
    "    unixtime = unixtime / 1000\n",
    "    # Convert to iso format\n",
    "    utc_datetime_str = datetime.datetime.utcfromtimestamp(unixtime).isoformat(' ')\n",
    "    # Return iso datetime with UTC appended\n",
    "    return( f\"{utc_datetime_str} UTC\" )"
   ]
  },
  {
   "cell_type": "code",
   "execution_count": null,
   "metadata": {},
   "outputs": [],
   "source": [
    "# Convert unix time to iso format\n",
    "df['last_execution_time'] = df['last_execution_time'].apply(lambda x: conv_last_execution_time(x))"
   ]
  },
  {
   "cell_type": "code",
   "execution_count": null,
   "metadata": {},
   "outputs": [],
   "source": [
    "# Copy to clipboard for paste into Excel\n",
    "df.to_clipboard(sep='\\t', float_format=CommaFloatFormatter())"
   ]
  },
  {
   "cell_type": "code",
   "execution_count": null,
   "metadata": {},
   "outputs": [],
   "source": []
  }
 ],
 "metadata": {
  "kernelspec": {
   "display_name": "Python 3",
   "language": "python",
   "name": "python3"
  },
  "language_info": {
   "codemirror_mode": {
    "name": "ipython",
    "version": 3
   },
   "file_extension": ".py",
   "mimetype": "text/x-python",
   "name": "python",
   "nbconvert_exporter": "python",
   "pygments_lexer": "ipython3",
   "version": "3.6.6"
  }
 },
 "nbformat": 4,
 "nbformat_minor": 2
}
