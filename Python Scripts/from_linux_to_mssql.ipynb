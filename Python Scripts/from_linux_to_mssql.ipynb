{
 "cells": [
  {
   "cell_type": "code",
   "execution_count": null,
   "metadata": {},
   "outputs": [],
   "source": [
    "from blazingsql import BlazingContext\n",
    "bc = BlazingContext()\n",
    "\n",
    "import pandas as pd\n",
    "from sqlalchemy import create_engine\n",
    "import urllib\n",
    "import json\n",
    "import datetime"
   ]
  },
  {
   "cell_type": "code",
   "execution_count": null,
   "metadata": {},
   "outputs": [],
   "source": [
    "from dotenv_config import Config\n",
    "config = Config('.env')"
   ]
  },
  {
   "cell_type": "code",
   "execution_count": null,
   "metadata": {},
   "outputs": [],
   "source": [
    "params = urllib.parse.quote_plus(f\"DRIVER={{ODBC Driver 17 for SQL Server}};\"\n",
    "                                 f\"SERVER={config('SERVER')};\"\n",
    "                                 f\"DATABASE={config('DATABASE')};\"\n",
    "                                 f\"Uid={config('Uid')};\"\n",
    "                                 f\"Pwd={config('Pwd')};\")"
   ]
  },
  {
   "cell_type": "code",
   "execution_count": null,
   "metadata": {},
   "outputs": [],
   "source": [
    "# Connect via current Windows credentials\n",
    "conn = create_engine(\"mssql+pyodbc:///?odbc_connect={}\".format(params))"
   ]
  },
  {
   "cell_type": "code",
   "execution_count": null,
   "metadata": {},
   "outputs": [],
   "source": [
    "table_name = \"CSPPriceList\""
   ]
  },
  {
   "cell_type": "code",
   "execution_count": null,
   "metadata": {},
   "outputs": [],
   "source": [
    "df = pd.read_sql(f\"SELECT * FROM {table_name} ORDER BY [Offer ID], Month\", conn)"
   ]
  },
  {
   "cell_type": "code",
   "execution_count": null,
   "metadata": {},
   "outputs": [],
   "source": [
    "df.rename( columns= {\n",
    "    'A C D U': 'A_C_D_U', \n",
    "    'Valid From Date': 'Valid_From_Date', \n",
    "    'Valid To Date': 'Valid_To_Date', \n",
    "    'Offer Display Name': 'Offer_Display_Name', \n",
    "    'Offer ID': 'Offer_ID', \n",
    "    'License Agreement Type': 'License_Agreement_Type', \n",
    "    'Purchase Unit': 'Purchase_Unit', \n",
    "    'Secondary License Type': 'Secondary_License_Type', \n",
    "    'End Customer Type': 'End_Customer_Type', \n",
    "    'List Price': 'List_Price', \n",
    "    'ERP Price': 'ERP_Price', \n",
    "    'Month': 'MonthKey'\n",
    "    }, inplace=True)"
   ]
  },
  {
   "cell_type": "code",
   "execution_count": null,
   "metadata": {},
   "outputs": [],
   "source": [
    "df.info()"
   ]
  },
  {
   "cell_type": "code",
   "execution_count": null,
   "metadata": {},
   "outputs": [],
   "source": [
    "bc.create_table('csp_pricelist', df)"
   ]
  },
  {
   "cell_type": "code",
   "execution_count": null,
   "metadata": {},
   "outputs": [],
   "source": [
    "# running the query will give you a token object\n",
    "token = bc.sql('SELECT * FROM main.csp_pricelist ', ['csp_pricelist']) \n",
    "# with the token object you can retrieve your results\n",
    "result = token.get()\n",
    "# the gdf will be in the result object\n",
    "gdf = result.columns\n",
    "print(gdf)"
   ]
  },
  {
   "cell_type": "code",
   "execution_count": null,
   "metadata": {},
   "outputs": [],
   "source": [
    "gdf['Offer_Hash'] = gdf.hash_columns(['A_C_D_U',\n",
    "'Offer_Display_Name',\n",
    "'License_Agreement_Type',\n",
    "'Purchase_Unit',\n",
    "'Secondary_License_Type',\n",
    "'End_Customer_Type',\n",
    "'List_Price',\n",
    "'ERP_Price'])"
   ]
  },
  {
   "cell_type": "code",
   "execution_count": null,
   "metadata": {},
   "outputs": [],
   "source": [
    "dedup = gdf.to_pandas().drop_duplicates(subset=['Offer_ID', 'Offer_Hash'], keep='first')"
   ]
  },
  {
   "cell_type": "code",
   "execution_count": null,
   "metadata": {},
   "outputs": [],
   "source": [
    "dedup.count()"
   ]
  },
  {
   "cell_type": "code",
   "execution_count": null,
   "metadata": {},
   "outputs": [],
   "source": [
    "dedup.head(10)"
   ]
  },
  {
   "cell_type": "code",
   "execution_count": null,
   "metadata": {},
   "outputs": [],
   "source": [
    "dedup.to_sql(name=\"TestTable\", con=conn, index=False, if_exists=\"append\")"
   ]
  },
  {
   "cell_type": "code",
   "execution_count": null,
   "metadata": {},
   "outputs": [],
   "source": [
    "offer = '021c86b6-8f1d-4317-bcca-1a55ee5377d8'\n",
    "dedup.query('Offer_ID == @offer')"
   ]
  },
  {
   "cell_type": "code",
   "execution_count": null,
   "metadata": {},
   "outputs": [],
   "source": []
  }
 ],
 "metadata": {
  "kernelspec": {
   "display_name": "Python 3",
   "language": "python",
   "name": "python3"
  },
  "language_info": {
   "codemirror_mode": {
    "name": "ipython",
    "version": 3
   },
   "file_extension": ".py",
   "mimetype": "text/x-python",
   "name": "python",
   "nbconvert_exporter": "python",
   "pygments_lexer": "ipython3",
   "version": "3.7.3"
  }
 },
 "nbformat": 4,
 "nbformat_minor": 2
}
