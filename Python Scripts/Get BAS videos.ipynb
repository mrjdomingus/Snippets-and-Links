{
 "cells": [
  {
   "cell_type": "code",
   "execution_count": 1,
   "metadata": {},
   "outputs": [],
   "source": [
    "import requests\n",
    "import bs4\n",
    "from toolz.itertoolz import mapcat, unique\n",
    "import logging\n",
    "from dask.distributed import Client\n",
    "import pandas as pd"
   ]
  },
  {
   "cell_type": "code",
   "execution_count": 2,
   "metadata": {},
   "outputs": [],
   "source": [
    "logging.basicConfig()\n",
    "logger = logging.getLogger('get_bas_videos')\n",
    "logger.setLevel(logging.DEBUG) # Do not chain this to previous statement"
   ]
  },
  {
   "cell_type": "code",
   "execution_count": 3,
   "metadata": {},
   "outputs": [],
   "source": [
    "client = Client()"
   ]
  },
  {
   "cell_type": "code",
   "execution_count": 4,
   "metadata": {},
   "outputs": [],
   "source": [
    "base_url = 'https://powerusers.microsoft.com'"
   ]
  },
  {
   "cell_type": "code",
   "execution_count": 5,
   "metadata": {},
   "outputs": [],
   "source": [
    "def get_pagefull_PA_MBAS_Gallery(page):\n",
    "    page_url = f\"https://powerusers.microsoft.com/t5/MBAS-Gallery/bd-p/PA_MBAS_Gallery/page/{page}\"\n",
    "\n",
    "    logger.debug(f\"page_url: {page_url}\")\n",
    "    \n",
    "    r = requests.get(page_url) #returns the HTML of the page, can be done through urlopen as well\n",
    "\n",
    "    soup = bs4.BeautifulSoup(r.content)\n",
    "\n",
    "    session_urls = []\n",
    "    \n",
    "    tags = soup.find_all(\"div\",{\"class\":\"lia-messages-message-card\"})\n",
    "    \n",
    "    for index, tag in enumerate(tags):\n",
    "        session_urls.append( base_url + tag.select(\"div > a\")[0]['href'] )\n",
    "        \n",
    "    return session_urls\n",
    "    "
   ]
  },
  {
   "cell_type": "raw",
   "metadata": {},
   "source": [
    "session_urls_PA_MBAS_Gallery = list(mapcat(lambda page: get_pagefull_PA_MBAS_Gallery(page), range(1,13)))\n"
   ]
  },
  {
   "cell_type": "code",
   "execution_count": 6,
   "metadata": {},
   "outputs": [],
   "source": [
    "futures = client.map(get_pagefull_PA_MBAS_Gallery, range(1,13))"
   ]
  },
  {
   "cell_type": "code",
   "execution_count": 7,
   "metadata": {},
   "outputs": [],
   "source": [
    "session_urls_PA_MBAS_Gallery = client.gather(futures)"
   ]
  },
  {
   "cell_type": "code",
   "execution_count": 8,
   "metadata": {},
   "outputs": [],
   "source": [
    "session_urls_PA_MBAS_Gallery = list(mapcat(lambda x: x, session_urls_PA_MBAS_Gallery))"
   ]
  },
  {
   "cell_type": "code",
   "execution_count": 9,
   "metadata": {},
   "outputs": [
    {
     "data": {
      "text/plain": [
       "['https://powerusers.microsoft.com/t5/MBAS-Gallery/Microsoft-Dynamics-365-for-Finance-and-Operations-What-s-new-in/m-p/299878',\n",
       " 'https://powerusers.microsoft.com/t5/MBAS-Gallery/Microsoft-Power-BI-The-future-of-modern-BI-roadmap-and-vision/m-p/298820',\n",
       " 'https://powerusers.microsoft.com/t5/MBAS-Gallery/Microsoft-Dynamics-365-for-Finance-and-Operations-How-Dual-Write/m-p/299884',\n",
       " 'https://powerusers.microsoft.com/t5/MBAS-Gallery/Microsoft-Power-BI-BI-power-hour/m-p/299883',\n",
       " 'https://powerusers.microsoft.com/t5/MBAS-Gallery/Microsoft-Dynamics-365-for-Finance-and-Operations-Updated/m-p/299814',\n",
       " 'https://powerusers.microsoft.com/t5/MBAS-Gallery/Microsoft-Dynamics-365-Business-Central-roadmap-and-overview/m-p/299140',\n",
       " 'https://powerusers.microsoft.com/t5/MBAS-Gallery/Microsoft-Flow-Vision-and-feature-roadmap/m-p/299125',\n",
       " 'https://powerusers.microsoft.com/t5/MBAS-Gallery/Microsoft-PowerApps-Vision-and-roadmap/m-p/299119',\n",
       " 'https://powerusers.microsoft.com/t5/MBAS-Gallery/Real-World-Stories-The-rise-of-citizen-development/m-p/299058',\n",
       " 'https://powerusers.microsoft.com/t5/MBAS-Gallery/Microsoft-PowerApps-Run-one-UI-the-future-of-canvas-model-driven/m-p/301579',\n",
       " 'https://powerusers.microsoft.com/t5/MBAS-Gallery/Dynamics-365-An-Architect-s-Perspective-FastTrack-Recognized/m-p/300014',\n",
       " 'https://powerusers.microsoft.com/t5/MBAS-Gallery/Microsoft-Dynamics-365-for-Sales-Get-the-most-out-of-the/m-p/299912',\n",
       " 'https://powerusers.microsoft.com/t5/MBAS-Gallery/Microsoft-Dynamics-365-for-Sales-Turn-relationships-into-revenue/m-p/299900',\n",
       " 'https://powerusers.microsoft.com/t5/MBAS-Gallery/Microsoft-Dynamics-365-Business-Central-Individual/m-p/299899',\n",
       " 'https://powerusers.microsoft.com/t5/MBAS-Gallery/Microsoft-Dynamics-365-for-Finance-and-Operations-Business/m-p/299894',\n",
       " 'https://powerusers.microsoft.com/t5/MBAS-Gallery/Microsoft-Dynamics-365-for-Finance-and-Operations-Workflow-to/m-p/299817',\n",
       " 'https://powerusers.microsoft.com/t5/MBAS-Gallery/Microsoft-Dynamics-365-Business-Central-Life-hacks/m-p/299756',\n",
       " 'https://powerusers.microsoft.com/t5/MBAS-Gallery/Microsoft-Dynamics-365-Excel-life-hacks-for-Dynamics-365/m-p/299740',\n",
       " 'https://powerusers.microsoft.com/t5/MBAS-Gallery/Microsoft-Dynamics-365-Customer-Insights-in-action-Turn-your/m-p/299707',\n",
       " 'https://powerusers.microsoft.com/t5/MBAS-Gallery/Microsoft-PowerApps-and-Microsoft-Dynamics-365-Modernizing-the/m-p/299073',\n",
       " 'https://powerusers.microsoft.com/t5/MBAS-Gallery/Microsoft-Forms-Pro-Build-a-more-engaged-and-data-driven-culture/m-p/299064',\n",
       " 'https://powerusers.microsoft.com/t5/MBAS-Gallery/Microsoft-Dynamics-365-for-Customer-Insights-Technical-deep-dive/m-p/298892',\n",
       " 'https://powerusers.microsoft.com/t5/MBAS-Gallery/Warehouse-Management-Deep-Dive/m-p/302027',\n",
       " 'https://powerusers.microsoft.com/t5/MBAS-Gallery/Microsoft-Power-BI-Democratizing-self-service-data-prep-with/m-p/301592',\n",
       " 'https://powerusers.microsoft.com/t5/MBAS-Gallery/Microsoft-Dynamics-365-for-Finance-and-Operations-Connected/m-p/301590',\n",
       " 'https://powerusers.microsoft.com/t5/MBAS-Gallery/Microsoft-Flow-and-PowerApps-Building-data-connectors/m-p/301584',\n",
       " 'https://powerusers.microsoft.com/t5/MBAS-Gallery/Microsoft-PowerApps-and-SharePoint-Better-together/m-p/301582',\n",
       " 'https://powerusers.microsoft.com/t5/MBAS-Gallery/Microsoft-Dynamics-365-for-Finance-and-Operations-Warehouse/m-p/301578',\n",
       " 'https://powerusers.microsoft.com/t5/MBAS-Gallery/Conversation-intelligence-in-Dynamics-365-Sales-Insights-Turning/m-p/301570',\n",
       " 'https://powerusers.microsoft.com/t5/MBAS-Gallery/Microsoft-Power-BI-Advanced-concepts-in-the-Common-Data-Model/m-p/301567',\n",
       " 'https://powerusers.microsoft.com/t5/MBAS-Gallery/Implementation-Best-Practices-for-Dynamics-365-A-Microsoft/m-p/301560',\n",
       " 'https://powerusers.microsoft.com/t5/MBAS-Gallery/Microsoft-Dynamics-365-for-Finance-and-Operations-Revenue/m-p/301555',\n",
       " 'https://powerusers.microsoft.com/t5/MBAS-Gallery/Microsoft-Dynamics-365-for-Finance-and-Operations-Accelerate/m-p/301553',\n",
       " 'https://powerusers.microsoft.com/t5/MBAS-Gallery/Aggregation-and-composite-model-Microsoft-Power-BI-fast-and/m-p/300087',\n",
       " 'https://powerusers.microsoft.com/t5/MBAS-Gallery/Microsoft-Power-BI-Deep-dive-into-the-ESRI-Map-Visual-in-Power/m-p/300084',\n",
       " 'https://powerusers.microsoft.com/t5/MBAS-Gallery/Microsoft-Dynamics-365-for-Finance-and-Operations-Planning/m-p/300080',\n",
       " 'https://powerusers.microsoft.com/t5/MBAS-Gallery/Microsoft-Dynamics-365-for-Finance-and-Operations-User/m-p/300076',\n",
       " 'https://powerusers.microsoft.com/t5/MBAS-Gallery/Implementation-Best-Practices-for-Dynamics-365-Performance-best/m-p/300075',\n",
       " 'https://powerusers.microsoft.com/t5/MBAS-Gallery/Microsoft-Power-BI-Connect-and-transform-data-from-hundreds-of/m-p/300073',\n",
       " 'https://powerusers.microsoft.com/t5/MBAS-Gallery/Microsoft-Dynamics-365-for-Finance-and-Operations-Supply-Chain/m-p/300069',\n",
       " 'https://powerusers.microsoft.com/t5/MBAS-Gallery/Microsoft-PowerApps-Introducing-PowerApps-portal-for-external/m-p/300016',\n",
       " 'https://powerusers.microsoft.com/t5/MBAS-Gallery/Customer-stories-with-Medtronic-and-AP-Moller-Maersk/m-p/299999',\n",
       " 'https://powerusers.microsoft.com/t5/MBAS-Gallery/Customer-stories-with-Fiserv-and-Schlumberger/m-p/299997',\n",
       " 'https://powerusers.microsoft.com/t5/MBAS-Gallery/Customer-stories-with-Cummins-and-BP/m-p/299991',\n",
       " 'https://powerusers.microsoft.com/t5/MBAS-Gallery/Customer-stories-with-Standard-Bank/m-p/299990',\n",
       " 'https://powerusers.microsoft.com/t5/MBAS-Gallery/Microsoft-Power-BI-AI-powered-analytics/m-p/299987',\n",
       " 'https://powerusers.microsoft.com/t5/MBAS-Gallery/Learning-DAX-Five-things-to-get-you-started-fast/m-p/299986',\n",
       " 'https://powerusers.microsoft.com/t5/MBAS-Gallery/Microsoft-PowerApps-and-Microsoft-Dynamics-365-What-s-new-for/m-p/299983',\n",
       " 'https://powerusers.microsoft.com/t5/MBAS-Gallery/Microsoft-Power-BI-Using-the-Power-platform-to-radically-change/m-p/299982',\n",
       " 'https://powerusers.microsoft.com/t5/MBAS-Gallery/Microsoft-PowerApps-Tried-and-tested-techniques-for-establishing/m-p/299979',\n",
       " 'https://powerusers.microsoft.com/t5/MBAS-Gallery/Microsoft-PowerApps-and-Microsoft-Flow-Top-10-tips-to-securely/m-p/299975',\n",
       " 'https://powerusers.microsoft.com/t5/MBAS-Gallery/Microsoft-PowerApps-and-Common-Data-Service-Heterogeneous/m-p/299973',\n",
       " 'https://powerusers.microsoft.com/t5/MBAS-Gallery/Microsoft-Dynamics-365-for-Customer-Service-Microsoft-AI/m-p/299972',\n",
       " 'https://powerusers.microsoft.com/t5/MBAS-Gallery/Microsoft-Power-BI-Introduction-to-Embedded-Analytics/m-p/299970',\n",
       " 'https://powerusers.microsoft.com/t5/MBAS-Gallery/Microsoft-PowerApps-and-Microsoft-Flow-Learn-how-to-create-AI/m-p/299968',\n",
       " 'https://powerusers.microsoft.com/t5/MBAS-Gallery/Microsoft-PowerApps-and-Power-BI-The-future-of-Business-Apps/m-p/299966',\n",
       " 'https://powerusers.microsoft.com/t5/MBAS-Gallery/Microsoft-Dynamics-365-for-Customer-Service-Built-for-customer/m-p/299963',\n",
       " 'https://powerusers.microsoft.com/t5/MBAS-Gallery/Microsoft-Power-BI-Designing-for-high-performance-in-Power-BI/m-p/299962',\n",
       " 'https://powerusers.microsoft.com/t5/MBAS-Gallery/Microsoft-Power-BI-Roadmap-for-enterprise-information-management/m-p/299960',\n",
       " 'https://powerusers.microsoft.com/t5/MBAS-Gallery/Microsoft-Power-BI-Creating-accessible-Power-BI-reports/m-p/299957',\n",
       " 'https://powerusers.microsoft.com/t5/MBAS-Gallery/Microsoft-PowerApps-and-Microsoft-Flow-Building-end-to-end/m-p/299955',\n",
       " 'https://powerusers.microsoft.com/t5/MBAS-Gallery/Microsoft-Power-BI-Using-Power-BI-as-an-end-user-on-the-web-and/m-p/299954',\n",
       " 'https://powerusers.microsoft.com/t5/MBAS-Gallery/Real-World-Stories-Non-profits-use-Microsoft-PowerApps-to-drive/m-p/299951',\n",
       " 'https://powerusers.microsoft.com/t5/MBAS-Gallery/Microsoft-PowerApps-Monitoring-and-supporting-PowerApps-at-scale/m-p/299949',\n",
       " 'https://powerusers.microsoft.com/t5/MBAS-Gallery/Microsoft-Power-BI-Introducing-Power-BI-template-apps/m-p/299947',\n",
       " 'https://powerusers.microsoft.com/t5/MBAS-Gallery/Real-World-Stories-Perspectives-from-IT-executives-on-bottom-up/m-p/299945',\n",
       " 'https://powerusers.microsoft.com/t5/MBAS-Gallery/Real-World-Stories-Global-energy-companies-power-digital/m-p/299942',\n",
       " 'https://powerusers.microsoft.com/t5/MBAS-Gallery/Microsoft-Power-BI-Premium-capacity-why-use-it-how-to-plan-for/m-p/299941',\n",
       " 'https://powerusers.microsoft.com/t5/MBAS-Gallery/Real-World-Stories-Global-transportation-companies-move-faster/m-p/299939',\n",
       " 'https://powerusers.microsoft.com/t5/MBAS-Gallery/Microsoft-PowerApps-and-Common-Data-Service-Identity-and-sharing/m-p/299936',\n",
       " 'https://powerusers.microsoft.com/t5/MBAS-Gallery/Microsoft-Excel-How-I-leveraged-Excel-Microsoft-Flow-Power-Query/m-p/299935',\n",
       " 'https://powerusers.microsoft.com/t5/MBAS-Gallery/Microsoft-Flow-and-SharePoint-Tips-and-tricks-from-the-masters/m-p/299932',\n",
       " 'https://powerusers.microsoft.com/t5/MBAS-Gallery/Implementation-Best-Practices-for-Dynamics-365-Making-the-move/m-p/299928',\n",
       " 'https://powerusers.microsoft.com/t5/MBAS-Gallery/Microsoft-Dynamics-365-for-Field-Service-Mobility-and-mixed/m-p/299927',\n",
       " 'https://powerusers.microsoft.com/t5/MBAS-Gallery/Real-World-Stories-Manufacturing-companies-embrace-lean/m-p/299921',\n",
       " 'https://powerusers.microsoft.com/t5/MBAS-Gallery/Microsoft-Dynamics-365-for-Field-Service-Success-with-Connected/m-p/299920',\n",
       " 'https://powerusers.microsoft.com/t5/MBAS-Gallery/Microsoft-Power-BI-Mapping-with-Power-BI/m-p/299917',\n",
       " 'https://powerusers.microsoft.com/t5/MBAS-Gallery/Microsoft-Dynamics-365-for-Field-Service-Core-enhancements/m-p/299916',\n",
       " 'https://powerusers.microsoft.com/t5/MBAS-Gallery/Microsoft-Power-BI-Introduction-to-M-in-Power-BI/m-p/299913',\n",
       " 'https://powerusers.microsoft.com/t5/MBAS-Gallery/Hybrid-Power-BI-What-is-possible-and-what-do-you-need/m-p/299908',\n",
       " 'https://powerusers.microsoft.com/t5/MBAS-Gallery/Microsoft-Dynamics-365-for-Finance-and-Operations-Project/m-p/299906',\n",
       " 'https://powerusers.microsoft.com/t5/MBAS-Gallery/Microsoft-Dynamics-365-for-Marketing-Personalize-your-customer/m-p/299905',\n",
       " 'https://powerusers.microsoft.com/t5/MBAS-Gallery/Microsoft-Dynamics-365-Common-Data-Model-and-Accelerator/m-p/299903',\n",
       " 'https://powerusers.microsoft.com/t5/MBAS-Gallery/Microsoft-Dynamics-365-Business-Central-Building-connect-apps/m-p/299895',\n",
       " 'https://powerusers.microsoft.com/t5/MBAS-Gallery/Microsoft-Power-Query-Collect-combine-and-transform-data-using/m-p/299890',\n",
       " 'https://powerusers.microsoft.com/t5/MBAS-Gallery/Microsoft-Power-BI-The-Do-s-and-Don-ts-of-Power-BI-Relationships/m-p/299888',\n",
       " 'https://powerusers.microsoft.com/t5/MBAS-Gallery/Microsoft-Power-BI-My-Power-BI-report-is-slow-What-should-I-do/m-p/299887',\n",
       " 'https://powerusers.microsoft.com/t5/MBAS-Gallery/Microsoft-Dynamics-365-Business-Central-Building-add-on-apps/m-p/299880',\n",
       " 'https://powerusers.microsoft.com/t5/MBAS-Gallery/Microsoft-PowerApps-Optimizing-custom-code-and-plugins-in-the/m-p/299876',\n",
       " 'https://powerusers.microsoft.com/t5/MBAS-Gallery/Microsoft-PowerApps-and-Microsoft-Flow-Leveraging-Azure/m-p/299873',\n",
       " 'https://powerusers.microsoft.com/t5/MBAS-Gallery/Microsoft-Flow-Digitize-human-driven-processes-with-Microsoft/m-p/299872',\n",
       " 'https://powerusers.microsoft.com/t5/MBAS-Gallery/Microsoft-Flow-Automate-the-Common-Data-Service-with-Microsoft/m-p/299869',\n",
       " 'https://powerusers.microsoft.com/t5/MBAS-Gallery/Microsoft-Power-BI-Flow-and-PowerApps-Connecting-to-data-using/m-p/299866',\n",
       " 'https://powerusers.microsoft.com/t5/MBAS-Gallery/Microsoft-Power-BI-Debugging-your-premium-capacity/m-p/299864',\n",
       " 'https://powerusers.microsoft.com/t5/MBAS-Gallery/Microsoft-Power-BI-Troubleshooting-Power-BI-dataset-refresh/m-p/299862',\n",
       " 'https://powerusers.microsoft.com/t5/MBAS-Gallery/Microsoft-Power-BI-Developing-with-Power-BI-embedding/m-p/299859',\n",
       " 'https://powerusers.microsoft.com/t5/MBAS-Gallery/Microsoft-Power-BI-Real-time-dashboard-with-Google-Analytics/m-p/299856',\n",
       " 'https://powerusers.microsoft.com/t5/MBAS-Gallery/Microsoft-Dynamics-365-for-Finance-and-Operations-Extending/m-p/299855',\n",
       " 'https://powerusers.microsoft.com/t5/MBAS-Gallery/Microsoft-Dynamics-365-for-Customer-Service-Component-deep-dive/m-p/299849',\n",
       " 'https://powerusers.microsoft.com/t5/MBAS-Gallery/Microsoft-Excel-Boost-your-productivity-with-Excel-on-the-web/m-p/299847',\n",
       " 'https://powerusers.microsoft.com/t5/MBAS-Gallery/Mixed-Reality-MR-in-action-understand-how-organizations/m-p/299844',\n",
       " 'https://powerusers.microsoft.com/t5/MBAS-Gallery/Microsoft-Excel-Collaboration-in-Excel/m-p/299841',\n",
       " 'https://powerusers.microsoft.com/t5/MBAS-Gallery/Mixed-Reality-MR-in-action-understand-how-organizations/m-p/299838',\n",
       " 'https://powerusers.microsoft.com/t5/MBAS-Gallery/Power-BI-for-Good-How-FHI-360-is-using-Power-BI-to-measure/m-p/299834',\n",
       " 'https://powerusers.microsoft.com/t5/MBAS-Gallery/Microsoft-Flow-Advanced-expressions-for-Microsoft-Flow/m-p/299832',\n",
       " 'https://powerusers.microsoft.com/t5/MBAS-Gallery/Microsoft-Power-BI-Cash-flow-in-Power-BI-and-PowerApps/m-p/299830',\n",
       " 'https://powerusers.microsoft.com/t5/MBAS-Gallery/Design-and-create-business-workflows-automatically-using/m-p/299825',\n",
       " 'https://powerusers.microsoft.com/t5/MBAS-Gallery/Build-real-world-visualizations-for-Microsoft-Power-BI/m-p/299820',\n",
       " 'https://powerusers.microsoft.com/t5/MBAS-Gallery/Microsoft-Dynamics-365-for-Finance-and-Operations-System-admin/m-p/299808',\n",
       " 'https://powerusers.microsoft.com/t5/MBAS-Gallery/Build-a-model-driven-app-in-10-minutes/m-p/299805',\n",
       " 'https://powerusers.microsoft.com/t5/MBAS-Gallery/Build-amazing-model-driven-forms-including-embedded-canvas/m-p/299794',\n",
       " 'https://powerusers.microsoft.com/t5/MBAS-Gallery/Microsoft-PowerApps-What-s-new-with-PowerApps-controls/m-p/299789',\n",
       " 'https://powerusers.microsoft.com/t5/MBAS-Gallery/Microsoft-Power-BI-Integrate-interactive-Power-BI-reports-in/m-p/299787',\n",
       " 'https://powerusers.microsoft.com/t5/MBAS-Gallery/Microsoft-PowerApps-The-future-of-maker-experiences-in-PowerApps/m-p/299785',\n",
       " 'https://powerusers.microsoft.com/t5/MBAS-Gallery/Microsoft-Dynamics-365-Product-Visualize-Augmented-reality-with/m-p/299780',\n",
       " 'https://powerusers.microsoft.com/t5/MBAS-Gallery/Microsoft-PowerApps-Moving-InfoPath-forms-to-PowerApps/m-p/299776',\n",
       " 'https://powerusers.microsoft.com/t5/MBAS-Gallery/Microsoft-Dynamics-365-for-Finance-and-Operations-Regression/m-p/299773',\n",
       " 'https://powerusers.microsoft.com/t5/MBAS-Gallery/Microsoft-Dynamics-365-for-Retail-Optimize-retail-order/m-p/299764',\n",
       " 'https://powerusers.microsoft.com/t5/MBAS-Gallery/Microsoft-Dynamics-365-for-Finance-and-Operations-Testing/m-p/299760',\n",
       " 'https://powerusers.microsoft.com/t5/MBAS-Gallery/Microsoft-Dynamics-365-Fraud-Protection-Help-prevent-digital/m-p/299736',\n",
       " 'https://powerusers.microsoft.com/t5/MBAS-Gallery/Microsoft-Dynamics-365-Electronic-reporting-configurable/m-p/299727',\n",
       " 'https://powerusers.microsoft.com/t5/MBAS-Gallery/Microsoft-Power-BI-What-actually-makes-up-the-Power-BI-Eco/m-p/299721',\n",
       " 'https://powerusers.microsoft.com/t5/MBAS-Gallery/Microsoft-Flow-Embedding-Microsoft-Flow-in-your-own-application/m-p/299718',\n",
       " 'https://powerusers.microsoft.com/t5/MBAS-Gallery/Microsoft-PowerApps-Planning-your-enterprise-deployment-Capacity/m-p/299712',\n",
       " 'https://powerusers.microsoft.com/t5/MBAS-Gallery/Microsoft-Dynamics-365-Virtual-Agent-for-Customer-Service-Easily/m-p/299700',\n",
       " 'https://powerusers.microsoft.com/t5/MBAS-Gallery/Microsoft-Power-BI-Unleash-row-level-security-patterns-in-Power/m-p/299687',\n",
       " 'https://powerusers.microsoft.com/t5/MBAS-Gallery/Microsoft-Dynamics-365-Customer-Service-Insights-and-Dynamics/m-p/299681',\n",
       " 'https://powerusers.microsoft.com/t5/MBAS-Gallery/Microsoft-Excel-Whirlwind-Tour-2019/m-p/299142',\n",
       " 'https://powerusers.microsoft.com/t5/MBAS-Gallery/Microsoft-Power-BI-Flow-and-PowerApps-Working-with-data-in-the/m-p/299138',\n",
       " 'https://powerusers.microsoft.com/t5/MBAS-Gallery/Microsoft-Dynamics-365-for-Retail-What-s-new-and-Roadmap/m-p/299137',\n",
       " 'https://powerusers.microsoft.com/t5/MBAS-Gallery/Microsoft-Dynamics-365-for-Talent-An-audience-of-our-customers/m-p/299134',\n",
       " 'https://powerusers.microsoft.com/t5/MBAS-Gallery/Customer-stories-with-Veolia-and-Bentley/m-p/299133',\n",
       " 'https://powerusers.microsoft.com/t5/MBAS-Gallery/Customer-stories-with-Atrium-Health-and-JCI/m-p/299131',\n",
       " 'https://powerusers.microsoft.com/t5/MBAS-Gallery/Microsoft-PowerApps-and-Microsoft-Flow-Introduction-and-Roadmap/m-p/299129',\n",
       " 'https://powerusers.microsoft.com/t5/MBAS-Gallery/Microsoft-PowerApps-and-Microsoft-Flow-Best-practices-for/m-p/299126',\n",
       " 'https://powerusers.microsoft.com/t5/MBAS-Gallery/Microsoft-PowerApps-Accelerate-your-journey-for-building-and/m-p/299118',\n",
       " 'https://powerusers.microsoft.com/t5/MBAS-Gallery/Microsoft-Power-BI-Getting-you-and-your-organization-started/m-p/299112',\n",
       " 'https://powerusers.microsoft.com/t5/MBAS-Gallery/Microsoft-Power-BI-What-s-new-in-Paginated-Reports/m-p/299109',\n",
       " 'https://powerusers.microsoft.com/t5/MBAS-Gallery/Microsoft-Dynamics-365-for-Field-Service-What-s-new-and-roadmap/m-p/299106',\n",
       " 'https://powerusers.microsoft.com/t5/MBAS-Gallery/Microsoft-Dynamics-365-for-Customer-Service-Dynamics-Portals/m-p/299102',\n",
       " 'https://powerusers.microsoft.com/t5/MBAS-Gallery/Microsoft-Dynamics-365-for-Customer-Service-Omni-channel/m-p/299100',\n",
       " 'https://powerusers.microsoft.com/t5/MBAS-Gallery/Microsoft-Dynamics-365-for-Customer-Service-What-s-new-and/m-p/299096',\n",
       " 'https://powerusers.microsoft.com/t5/MBAS-Gallery/Microsoft-Dynamics-365-for-Sales-and-Sales-Insights-Roadmap-a/m-p/299094',\n",
       " 'https://powerusers.microsoft.com/t5/MBAS-Gallery/Microsoft-Dynamics-365-Sales-Insights-Transforming-CRM-into-a/m-p/299091',\n",
       " 'https://powerusers.microsoft.com/t5/MBAS-Gallery/Microsoft-Dynamics-365-for-Marketing-Connect-marketing-and-sales/m-p/299090',\n",
       " 'https://powerusers.microsoft.com/t5/MBAS-Gallery/Microsoft-PowerApps-What-s-new-in-the-Common-Data-Service-for/m-p/299087',\n",
       " 'https://powerusers.microsoft.com/t5/MBAS-Gallery/Microsoft-Dynamics-365-for-Customer-Insights-Unify-your-customer/m-p/299084',\n",
       " 'https://powerusers.microsoft.com/t5/MBAS-Gallery/Microsoft-Dynamics-365-Business-Central-A-unified-solution/m-p/299083',\n",
       " 'https://powerusers.microsoft.com/t5/MBAS-Gallery/Microsoft-Dynamics-365-for-Finance-and-Operations-What-s-new-in/m-p/299080',\n",
       " 'https://powerusers.microsoft.com/t5/MBAS-Gallery/Microsoft-Excel-Best-practices-for-spreadsheet-modeling-data/m-p/299077',\n",
       " 'https://powerusers.microsoft.com/t5/MBAS-Gallery/Microsoft-PowerApps-Enabling-disconnected-model-apps/m-p/299069',\n",
       " 'https://powerusers.microsoft.com/t5/MBAS-Gallery/Real-World-Stories-Citizen-developers-and-enterprise-IT-find/m-p/299062',\n",
       " 'https://powerusers.microsoft.com/t5/MBAS-Gallery/Microsoft-Dynamics-365-for-Market-Insights-Know-what-your/m-p/299055',\n",
       " 'https://powerusers.microsoft.com/t5/MBAS-Gallery/Microsoft-Dynamics-365-Fraud-Protection-Prevent-fraud-in-the/m-p/299053',\n",
       " 'https://powerusers.microsoft.com/t5/MBAS-Gallery/Microsoft-Power-BI-End-to-end-Power-BI-Desktop-data-modeling/m-p/299050',\n",
       " 'https://powerusers.microsoft.com/t5/MBAS-Gallery/Microsoft-Dynamics-365-for-Talent-What-s-new/m-p/299048',\n",
       " 'https://powerusers.microsoft.com/t5/MBAS-Gallery/Dynamics-365-An-Architect-s-Perspective-FastTrack-Recognized/m-p/299046',\n",
       " 'https://powerusers.microsoft.com/t5/MBAS-Gallery/Microsoft-PowerApps-Migrating-your-legacy-InfoPath-and-Access/m-p/299044',\n",
       " 'https://powerusers.microsoft.com/t5/MBAS-Gallery/Microsoft-Dynamics-365-for-Talent-Extending-the-solution/m-p/299042',\n",
       " 'https://powerusers.microsoft.com/t5/MBAS-Gallery/Adobe-Driving-customer-centric-experiences-with-Adobe-and/m-p/299041',\n",
       " 'https://powerusers.microsoft.com/t5/MBAS-Gallery/Microsoft-Power-BI-How-to-build-a-custom-visual-for-Power-BI/m-p/299038',\n",
       " 'https://powerusers.microsoft.com/t5/MBAS-Gallery/Microsoft-Dynamics-365-for-Field-Service-The-scheduling-process/m-p/299035',\n",
       " 'https://powerusers.microsoft.com/t5/MBAS-Gallery/Common-Data-Service-Seamlessly-enable-CDS-entities-for-analytics/m-p/299029',\n",
       " 'https://powerusers.microsoft.com/t5/MBAS-Gallery/Common-Data-Model-All-you-need-to-know/m-p/299027',\n",
       " 'https://powerusers.microsoft.com/t5/MBAS-Gallery/Microsoft-PowerApps-Introduction-to-PowerApps-and-integration/m-p/299024',\n",
       " 'https://powerusers.microsoft.com/t5/MBAS-Gallery/Microsoft-Power-BI-Common-Data-Model-and-Azure-Data-Services/m-p/299021',\n",
       " 'https://powerusers.microsoft.com/t5/MBAS-Gallery/Microsoft-Dynamics-365-for-Finance-and-Operations-BI-amp/m-p/299020',\n",
       " 'https://powerusers.microsoft.com/t5/MBAS-Gallery/Microsoft-Power-BI-Building-and-implementing-a-governance/m-p/299017',\n",
       " 'https://powerusers.microsoft.com/t5/MBAS-Gallery/Microsoft-Power-BI-Enterprise-reporting/m-p/299016',\n",
       " 'https://powerusers.microsoft.com/t5/MBAS-Gallery/Microsoft-Dynamics-365-for-Finance-and-Operations-and-Common/m-p/299012',\n",
       " 'https://powerusers.microsoft.com/t5/MBAS-Gallery/Microsoft-PowerApps-Top-10-tips-and-tricks-from-building-over/m-p/299010',\n",
       " 'https://powerusers.microsoft.com/t5/MBAS-Gallery/Microsoft-Power-BI-Enterprise-grade-BI-with-Power-BI-dataflows/m-p/299007',\n",
       " 'https://powerusers.microsoft.com/t5/MBAS-Gallery/Microsoft-Power-BI-Enterprise-modeling-with-Power-BI-and-Azure/m-p/299005',\n",
       " 'https://powerusers.microsoft.com/t5/MBAS-Gallery/Microsoft-Dynamics-365-for-Finance-and-Operations-Strategic/m-p/299001',\n",
       " 'https://powerusers.microsoft.com/t5/MBAS-Gallery/Microsoft-Power-BI-Building-connectors/m-p/298999',\n",
       " 'https://powerusers.microsoft.com/t5/MBAS-Gallery/Microsoft-Dynamics-365-for-Talent-Analytics-capabilities/m-p/298997',\n",
       " 'https://powerusers.microsoft.com/t5/MBAS-Gallery/Microsoft-Dynamics-365-for-Finance-and-Operations-Continuous/m-p/298995',\n",
       " 'https://powerusers.microsoft.com/t5/MBAS-Gallery/Microsoft-Dynamics-365-The-Dynamics-365-cloud-advantage/m-p/298992',\n",
       " 'https://powerusers.microsoft.com/t5/MBAS-Gallery/Microsoft-PowerApps-How-to-get-the-best-support-for-PowerApps/m-p/298990',\n",
       " 'https://powerusers.microsoft.com/t5/MBAS-Gallery/Microsoft-PowerApps-and-Microsoft-Dynamics-365-Best-practices/m-p/298988',\n",
       " 'https://powerusers.microsoft.com/t5/MBAS-Gallery/Microsoft-Power-BI-Democratizing-AI-in-popular-tools-like-Power/m-p/298985',\n",
       " 'https://powerusers.microsoft.com/t5/MBAS-Gallery/Microsoft-Power-BI-Collaborate-across-organizations-with-Azure/m-p/298982',\n",
       " 'https://powerusers.microsoft.com/t5/MBAS-Gallery/Microsoft-Excel-Getting-Started-with-Dynamic-Arrays-in-Excel/m-p/298979',\n",
       " 'https://powerusers.microsoft.com/t5/MBAS-Gallery/Microsoft-Dynamics-365-for-Finance-and-Operations-Analytical/m-p/298976',\n",
       " 'https://powerusers.microsoft.com/t5/MBAS-Gallery/Microsoft-Dynamics-365-for-Finance-and-Operations-New-feature/m-p/298974',\n",
       " 'https://powerusers.microsoft.com/t5/MBAS-Gallery/Microsoft-Excel-and-Visio-Unlock-the-power-of-data-driven/m-p/298972',\n",
       " 'https://powerusers.microsoft.com/t5/MBAS-Gallery/Microsoft-Flow-and-PowerApps-An-open-sourced-connector/m-p/298969',\n",
       " 'https://powerusers.microsoft.com/t5/MBAS-Gallery/Microsoft-PowerApps-Deliver-higher-quality-apps-with-PowerApps/m-p/298968',\n",
       " 'https://powerusers.microsoft.com/t5/MBAS-Gallery/Common-Data-Service-Use-the-Mail-app-to-bring-Common-Data/m-p/298963',\n",
       " 'https://powerusers.microsoft.com/t5/MBAS-Gallery/Microsoft-AI-and-Business-Applications-Current-and-future-state/m-p/298961',\n",
       " 'https://powerusers.microsoft.com/t5/MBAS-Gallery/Microsoft-Power-BI-How-Microsoft-Finance-uses-our-analytics/m-p/298956',\n",
       " 'https://powerusers.microsoft.com/t5/MBAS-Gallery/Microsoft-Dynamics-365-for-Talent-Integrating-with-Finance-amp/m-p/298955',\n",
       " 'https://powerusers.microsoft.com/t5/MBAS-Gallery/Microsoft-Dynamics-365-for-Field-Service-Wearables-Connected/m-p/298949',\n",
       " 'https://powerusers.microsoft.com/t5/MBAS-Gallery/AI-and-Microsoft-Power-BI-The-realm-of-impossible/m-p/298948',\n",
       " 'https://powerusers.microsoft.com/t5/MBAS-Gallery/Microsoft-PowerApps-and-Microsoft-Flow-Let-AI-ML-and-Microsoft/m-p/298945',\n",
       " 'https://powerusers.microsoft.com/t5/MBAS-Gallery/Microsoft-Flow-Approvals-in-20-minutes/m-p/298943',\n",
       " 'https://powerusers.microsoft.com/t5/MBAS-Gallery/Microsoft-Flow-for-SharePoint/m-p/298942',\n",
       " 'https://powerusers.microsoft.com/t5/MBAS-Gallery/Microsoft-Flow-Using-Microsoft-Flow-to-drive-Dynamics-365/m-p/298939',\n",
       " 'https://powerusers.microsoft.com/t5/MBAS-Gallery/Microsoft-Flow-Building-out-Service-Case-Management/m-p/298938',\n",
       " 'https://powerusers.microsoft.com/t5/MBAS-Gallery/Microsoft-Dynamics-365-for-Sales-Professional-Enabling/m-p/298933',\n",
       " 'https://powerusers.microsoft.com/t5/MBAS-Gallery/Microsoft-Dynamics-365-amp-Power-Platform-infrastructure-trust/m-p/298931',\n",
       " 'https://powerusers.microsoft.com/t5/MBAS-Gallery/Microsoft-Dynamics-365-for-Customer-Service-Omni-channel/m-p/298929',\n",
       " 'https://powerusers.microsoft.com/t5/MBAS-Gallery/Connected-Field-Service-Real-world-deployment-story/m-p/298925',\n",
       " 'https://powerusers.microsoft.com/t5/MBAS-Gallery/Microsoft-Dynamics-365-for-Finance-and-Operations-Resource/m-p/298923',\n",
       " 'https://powerusers.microsoft.com/t5/MBAS-Gallery/Microsoft-Dynamics-365-for-Field-Service-Real-world-deployment/m-p/298921',\n",
       " 'https://powerusers.microsoft.com/t5/MBAS-Gallery/Adobe-24-Hour-Fitness-runs-with-omni-channel-marketing/m-p/298912',\n",
       " 'https://powerusers.microsoft.com/t5/MBAS-Gallery/Microsoft-PowerApps-and-Power-BI-Driving-global-impact-through/m-p/298901',\n",
       " 'https://powerusers.microsoft.com/t5/MBAS-Gallery/Microsoft-PowerApps-Streamline-business-processes-using/m-p/298899',\n",
       " 'https://powerusers.microsoft.com/t5/MBAS-Gallery/Microsoft-Power-BI-Building-spectacular-Power-BI-dashboards-with/m-p/298897',\n",
       " 'https://powerusers.microsoft.com/t5/MBAS-Gallery/Microsoft-Power-BI-Promoting-amp-Governing-Power-BI-in-your/m-p/298895',\n",
       " 'https://powerusers.microsoft.com/t5/MBAS-Gallery/Microsoft-Power-BI-Deep-dive-into-SAP-connectivity-REPEAT/m-p/298891',\n",
       " 'https://powerusers.microsoft.com/t5/MBAS-Gallery/Microsoft-Power-BI-MSR-project-to-create-Power-BI-visualization/m-p/298887',\n",
       " 'https://powerusers.microsoft.com/t5/MBAS-Gallery/AppSource-Accelerate-transformation-via-business-applications/m-p/298882',\n",
       " 'https://powerusers.microsoft.com/t5/MBAS-Gallery/Microsoft-Power-BI-Deep-dive-into-SAP-connectivity/m-p/298863',\n",
       " 'https://powerusers.microsoft.com/t5/MBAS-Gallery/Microsoft-Dynamics-365-Customer-Service-Insights-Actionable/m-p/298862',\n",
       " 'https://powerusers.microsoft.com/t5/MBAS-Gallery/Microsoft-PowerApps-What-s-new-with-Microsoft-Power-BI/m-p/298855',\n",
       " 'https://powerusers.microsoft.com/t5/MBAS-Gallery/Microsoft-Power-BI-How-Microsoft-Finance-uses-our-analytics/m-p/298852',\n",
       " 'https://powerusers.microsoft.com/t5/MBAS-Gallery/Microsoft-Dynamics-365-for-Field-Service-Extended-scheduling/m-p/298849',\n",
       " 'https://powerusers.microsoft.com/t5/MBAS-Gallery/Microsoft-PowerApps-Make-responsive-canvas-apps-that-work-with/m-p/298847',\n",
       " 'https://powerusers.microsoft.com/t5/MBAS-Gallery/Microsoft-Dynamics-365-for-Marketing-Engaging-with-sales-and/m-p/298844',\n",
       " 'https://powerusers.microsoft.com/t5/MBAS-Gallery/Great-data-driven-experiences-over-the-Common-Data-Service/m-p/298840',\n",
       " 'https://powerusers.microsoft.com/t5/MBAS-Gallery/Microsoft-Dynamics-365-for-Field-Service-Turning-data-into/m-p/298837',\n",
       " 'https://powerusers.microsoft.com/t5/MBAS-Gallery/Microsoft-Power-BI-Deliver-a-powerful-data-story-with-Power-BI/m-p/298835']"
      ]
     },
     "execution_count": 9,
     "metadata": {},
     "output_type": "execute_result"
    }
   ],
   "source": [
    "session_urls_PA_MBAS_Gallery"
   ]
  },
  {
   "cell_type": "code",
   "execution_count": 10,
   "metadata": {},
   "outputs": [],
   "source": [
    "session_urls_PA_MBAS_Gallery = [x for x in unique(session_urls_PA_MBAS_Gallery)]"
   ]
  },
  {
   "cell_type": "code",
   "execution_count": 11,
   "metadata": {},
   "outputs": [
    {
     "data": {
      "text/plain": [
       "223"
      ]
     },
     "execution_count": 11,
     "metadata": {},
     "output_type": "execute_result"
    }
   ],
   "source": [
    "len(session_urls_PA_MBAS_Gallery)"
   ]
  },
  {
   "cell_type": "markdown",
   "metadata": {},
   "source": [
    "### Flow sessions"
   ]
  },
  {
   "cell_type": "code",
   "execution_count": 12,
   "metadata": {},
   "outputs": [],
   "source": [
    "def get_pagefull_FL_MBAS_Gallery(page):\n",
    "    page_url = f\"https://powerusers.microsoft.com/t5/MBAS-Gallery/bd-p/FL_MBAS_Gallery/page/{page}\"\n",
    "\n",
    "    logger.debug(f\"page_url: {page_url}\")\n",
    "    \n",
    "    r = requests.get(page_url) #returns the HTML of the page, can be done through urlopen as well\n",
    "\n",
    "    soup = bs4.BeautifulSoup(r.content)\n",
    "\n",
    "    session_urls = []\n",
    "    \n",
    "    tags = soup.find_all(\"div\",{\"class\":\"lia-messages-message-card\"})\n",
    "    \n",
    "    for index, tag in enumerate(tags):\n",
    "        session_urls.append( base_url + tag.select(\"div > a\")[0]['href'] )\n",
    "        \n",
    "    return session_urls\n",
    "    "
   ]
  },
  {
   "cell_type": "code",
   "execution_count": 13,
   "metadata": {},
   "outputs": [],
   "source": [
    "futures = client.map(get_pagefull_FL_MBAS_Gallery, range(1,13))"
   ]
  },
  {
   "cell_type": "code",
   "execution_count": 14,
   "metadata": {},
   "outputs": [],
   "source": [
    "session_urls_FL_MBAS_Gallery = client.gather(futures)"
   ]
  },
  {
   "cell_type": "code",
   "execution_count": 15,
   "metadata": {},
   "outputs": [],
   "source": [
    "session_urls_FL_MBAS_Gallery = list(mapcat(lambda x: x, session_urls_FL_MBAS_Gallery))"
   ]
  },
  {
   "cell_type": "code",
   "execution_count": 16,
   "metadata": {},
   "outputs": [],
   "source": [
    "session_urls_FL_MBAS_Gallery = [x for x in unique(session_urls_FL_MBAS_Gallery)]"
   ]
  },
  {
   "cell_type": "code",
   "execution_count": 17,
   "metadata": {},
   "outputs": [
    {
     "data": {
      "text/plain": [
       "222"
      ]
     },
     "execution_count": 17,
     "metadata": {},
     "output_type": "execute_result"
    }
   ],
   "source": [
    "len(session_urls_FL_MBAS_Gallery)"
   ]
  },
  {
   "cell_type": "code",
   "execution_count": 18,
   "metadata": {},
   "outputs": [],
   "source": [
    "session_urls = list(set(session_urls_PA_MBAS_Gallery + session_urls_FL_MBAS_Gallery)) "
   ]
  },
  {
   "cell_type": "code",
   "execution_count": 19,
   "metadata": {},
   "outputs": [],
   "source": [
    "df = pd.DataFrame({'session_urls': session_urls})"
   ]
  },
  {
   "cell_type": "code",
   "execution_count": 20,
   "metadata": {},
   "outputs": [
    {
     "name": "stdout",
     "output_type": "stream",
     "text": [
      "<class 'pandas.core.frame.DataFrame'>\n",
      "RangeIndex: 445 entries, 0 to 444\n",
      "Data columns (total 1 columns):\n",
      "session_urls    445 non-null object\n",
      "dtypes: object(1)\n",
      "memory usage: 3.6+ KB\n"
     ]
    }
   ],
   "source": [
    "df.info()"
   ]
  },
  {
   "cell_type": "code",
   "execution_count": 21,
   "metadata": {},
   "outputs": [],
   "source": [
    "df.to_clipboard(sep='\\t', index=False)"
   ]
  },
  {
   "cell_type": "code",
   "execution_count": 22,
   "metadata": {},
   "outputs": [],
   "source": [
    "split_url_df = df['session_urls'].str.rpartition('/')"
   ]
  },
  {
   "cell_type": "code",
   "execution_count": 23,
   "metadata": {},
   "outputs": [],
   "source": [
    "df.insert( len(df.columns), 'urlpart1', split_url_df[0])"
   ]
  },
  {
   "cell_type": "code",
   "execution_count": 24,
   "metadata": {},
   "outputs": [],
   "source": [
    "df.insert( len(df.columns), 'urlpart2', split_url_df[2])"
   ]
  },
  {
   "cell_type": "code",
   "execution_count": 28,
   "metadata": {},
   "outputs": [
    {
     "name": "stdout",
     "output_type": "stream",
     "text": [
      "<class 'pandas.core.frame.DataFrame'>\n",
      "Int64Index: 218 entries, 0 to 405\n",
      "Data columns (total 3 columns):\n",
      "session_urls    218 non-null object\n",
      "urlpart1        218 non-null object\n",
      "urlpart2        218 non-null object\n",
      "dtypes: object(3)\n",
      "memory usage: 6.8+ KB\n"
     ]
    }
   ],
   "source": [
    "df.info()"
   ]
  },
  {
   "cell_type": "code",
   "execution_count": 26,
   "metadata": {},
   "outputs": [],
   "source": [
    "df.drop_duplicates(subset=['urlpart1'], keep='first', inplace=True)"
   ]
  },
  {
   "cell_type": "code",
   "execution_count": 27,
   "metadata": {},
   "outputs": [],
   "source": [
    "df.to_clipboard(sep='\\t', index=False)"
   ]
  },
  {
   "cell_type": "code",
   "execution_count": null,
   "metadata": {},
   "outputs": [],
   "source": []
  },
  {
   "cell_type": "code",
   "execution_count": null,
   "metadata": {},
   "outputs": [],
   "source": [
    "page_url = f\"https://powerusers.microsoft.com/t5/MBAS-Gallery/Microsoft-PowerApps-Accelerate-your-journey-for-building-and/m-p/299118\"\n",
    "\n",
    "#logger.debug(f\"page_url: {page_url}\")\n",
    "\n",
    "r = requests.get(page_url) #returns the HTML of the page, can be done through urlopen as well\n",
    "\n",
    "soup = bs4.BeautifulSoup(r.content)\n",
    "\n",
    "\n",
    "tags = soup.find_all(\"a\",{\"class\":\"ytp-youtube-button ytp-button yt-uix-sessionlink\"})\n",
    "\n",
    "#for index, tag in enumerate(tags):\n",
    "#    session_urls.append( base_url + tag.select(\"div > a\")[0]['href'] )\n"
   ]
  },
  {
   "cell_type": "code",
   "execution_count": 51,
   "metadata": {},
   "outputs": [],
   "source": [
    "session_data_df = pd.read_json( 'c://mmm/session_data1.json')"
   ]
  },
  {
   "cell_type": "code",
   "execution_count": 52,
   "metadata": {},
   "outputs": [
    {
     "name": "stdout",
     "output_type": "stream",
     "text": [
      "<class 'pandas.core.frame.DataFrame'>\n",
      "Int64Index: 221 entries, 0 to 99\n",
      "Data columns (total 12 columns):\n",
      "session_url           221 non-null object\n",
      "Title:                221 non-null object\n",
      "Date:                 221 non-null object\n",
      "Video URL:            221 non-null object\n",
      "Description:          221 non-null object\n",
      "Other resources:      221 non-null object\n",
      "Session Type:         221 non-null object\n",
      "Session Code:         221 non-null object\n",
      "Product Category:     221 non-null object\n",
      "Product:              221 non-null object\n",
      "Level:                221 non-null object\n",
      "Presenter:            221 non-null object\n",
      "dtypes: object(12)\n",
      "memory usage: 22.4+ KB\n"
     ]
    }
   ],
   "source": [
    "session_data_df.info()"
   ]
  },
  {
   "cell_type": "code",
   "execution_count": 53,
   "metadata": {},
   "outputs": [],
   "source": [
    "session_data_df.to_clipboard(sep='\\t', index=False)"
   ]
  },
  {
   "cell_type": "code",
   "execution_count": 45,
   "metadata": {},
   "outputs": [],
   "source": [
    "session_data2_df = pd.read_json( 'c://mmm/session_data2.json')"
   ]
  },
  {
   "cell_type": "code",
   "execution_count": 46,
   "metadata": {},
   "outputs": [
    {
     "name": "stdout",
     "output_type": "stream",
     "text": [
      "<class 'pandas.core.frame.DataFrame'>\n",
      "Int64Index: 117 entries, 0 to 99\n",
      "Data columns (total 11 columns):\n",
      "Title:                117 non-null object\n",
      "Date:                 117 non-null object\n",
      "Video URL:            117 non-null object\n",
      "Description:          117 non-null object\n",
      "Other resources:      117 non-null object\n",
      "Session Type:         117 non-null object\n",
      "Session Code:         117 non-null object\n",
      "Product Category:     117 non-null object\n",
      "Product:              117 non-null object\n",
      "Level:                117 non-null object\n",
      "Presenter:            117 non-null object\n",
      "dtypes: object(11)\n",
      "memory usage: 11.0+ KB\n"
     ]
    }
   ],
   "source": [
    "session_data2_df.info()"
   ]
  },
  {
   "cell_type": "code",
   "execution_count": 47,
   "metadata": {},
   "outputs": [],
   "source": [
    "session_data2_df.to_clipboard(sep='\\t', index=False)"
   ]
  },
  {
   "cell_type": "code",
   "execution_count": null,
   "metadata": {},
   "outputs": [],
   "source": []
  },
  {
   "cell_type": "code",
   "execution_count": 35,
   "metadata": {},
   "outputs": [],
   "source": [
    "session_urls_df = pd.read_json( 'c://mmm/session_urls.json')"
   ]
  },
  {
   "cell_type": "code",
   "execution_count": null,
   "metadata": {},
   "outputs": [],
   "source": [
    "session_urls_df"
   ]
  },
  {
   "cell_type": "code",
   "execution_count": 38,
   "metadata": {},
   "outputs": [],
   "source": [
    "session_urls_df.to_clipboard(sep='\\t', index=False)"
   ]
  },
  {
   "cell_type": "code",
   "execution_count": null,
   "metadata": {},
   "outputs": [],
   "source": []
  },
  {
   "cell_type": "code",
   "execution_count": 48,
   "metadata": {},
   "outputs": [],
   "source": [
    "session_urls_dups_df = pd.read_json( 'c://mmm/session_urls_dups.json')"
   ]
  },
  {
   "cell_type": "code",
   "execution_count": null,
   "metadata": {},
   "outputs": [],
   "source": [
    "session_urls_dups_df"
   ]
  },
  {
   "cell_type": "code",
   "execution_count": 50,
   "metadata": {},
   "outputs": [],
   "source": [
    "session_urls_dups_df.to_clipboard(sep='\\t', index=False)"
   ]
  },
  {
   "cell_type": "code",
   "execution_count": null,
   "metadata": {},
   "outputs": [],
   "source": []
  }
 ],
 "metadata": {
  "kernelspec": {
   "display_name": "Python 3",
   "language": "python",
   "name": "python3"
  },
  "language_info": {
   "codemirror_mode": {
    "name": "ipython",
    "version": 3
   },
   "file_extension": ".py",
   "mimetype": "text/x-python",
   "name": "python",
   "nbconvert_exporter": "python",
   "pygments_lexer": "ipython3",
   "version": "3.6.8"
  }
 },
 "nbformat": 4,
 "nbformat_minor": 2
}
