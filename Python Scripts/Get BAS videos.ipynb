{
 "cells": [
  {
   "cell_type": "code",
   "execution_count": null,
   "metadata": {},
   "outputs": [],
   "source": [
    "import requests\n",
    "import bs4\n",
    "from toolz.itertoolz import mapcat, unique\n",
    "from toolz.dicttoolz import merge\n",
    "import logging\n",
    "from dask.distributed import Client\n",
    "import pandas as pd"
   ]
  },
  {
   "cell_type": "code",
   "execution_count": null,
   "metadata": {},
   "outputs": [],
   "source": [
    "logging.basicConfig()\n",
    "logger = logging.getLogger('get_bas_videos')\n",
    "logger.setLevel(logging.DEBUG) # Do not chain this to previous statement"
   ]
  },
  {
   "cell_type": "code",
   "execution_count": null,
   "metadata": {},
   "outputs": [],
   "source": [
    "client = Client()"
   ]
  },
  {
   "cell_type": "code",
   "execution_count": null,
   "metadata": {},
   "outputs": [],
   "source": [
    "base_url = 'https://powerusers.microsoft.com'"
   ]
  },
  {
   "cell_type": "markdown",
   "metadata": {},
   "source": [
    "### Dynamics, PowerApps and Power BI sessions"
   ]
  },
  {
   "cell_type": "code",
   "execution_count": null,
   "metadata": {},
   "outputs": [],
   "source": [
    "def get_pagefull_PA_MBAS_Gallery(page):\n",
    "    page_url = f\"https://powerusers.microsoft.com/t5/MBAS-Gallery/bd-p/PA_MBAS_Gallery/page/{page}\"\n",
    "\n",
    "    logger.debug(f\"page_url: {page_url}\")\n",
    "    \n",
    "    r = requests.get(page_url) #returns the HTML of the page, can be done through urlopen as well\n",
    "\n",
    "    soup = bs4.BeautifulSoup(r.content)\n",
    "\n",
    "    session_urls = []\n",
    "    \n",
    "    tags = soup.find_all(\"div\",{\"class\":\"lia-messages-message-card\"})\n",
    "    \n",
    "    for index, tag in enumerate(tags):\n",
    "        session_urls.append( base_url + tag.select(\"div > a\")[0]['href'] )\n",
    "        \n",
    "    return session_urls\n",
    "    "
   ]
  },
  {
   "cell_type": "raw",
   "metadata": {},
   "source": [
    "session_urls_PA_MBAS_Gallery = list(mapcat(lambda page: get_pagefull_PA_MBAS_Gallery(page), range(1,13)))\n"
   ]
  },
  {
   "cell_type": "code",
   "execution_count": null,
   "metadata": {},
   "outputs": [],
   "source": [
    "futures = client.map(get_pagefull_PA_MBAS_Gallery, range(1,13))"
   ]
  },
  {
   "cell_type": "code",
   "execution_count": null,
   "metadata": {},
   "outputs": [],
   "source": [
    "session_urls_PA_MBAS_Gallery = client.gather(futures)"
   ]
  },
  {
   "cell_type": "code",
   "execution_count": null,
   "metadata": {},
   "outputs": [],
   "source": [
    "session_urls_PA_MBAS_Gallery = list(mapcat(lambda x: x, session_urls_PA_MBAS_Gallery))"
   ]
  },
  {
   "cell_type": "code",
   "execution_count": null,
   "metadata": {},
   "outputs": [],
   "source": [
    "session_urls_PA_MBAS_Gallery"
   ]
  },
  {
   "cell_type": "code",
   "execution_count": null,
   "metadata": {},
   "outputs": [],
   "source": [
    "session_urls_PA_MBAS_Gallery = [x for x in unique(session_urls_PA_MBAS_Gallery)]"
   ]
  },
  {
   "cell_type": "code",
   "execution_count": null,
   "metadata": {},
   "outputs": [],
   "source": [
    "len(session_urls_PA_MBAS_Gallery)"
   ]
  },
  {
   "cell_type": "markdown",
   "metadata": {},
   "source": [
    "### Flow sessions"
   ]
  },
  {
   "cell_type": "code",
   "execution_count": null,
   "metadata": {},
   "outputs": [],
   "source": [
    "def get_pagefull_FL_MBAS_Gallery(page):\n",
    "    page_url = f\"https://powerusers.microsoft.com/t5/MBAS-Gallery/bd-p/FL_MBAS_Gallery/page/{page}\"\n",
    "\n",
    "    logger.debug(f\"page_url: {page_url}\")\n",
    "    \n",
    "    r = requests.get(page_url) #returns the HTML of the page, can be done through urlopen as well\n",
    "\n",
    "    soup = bs4.BeautifulSoup(r.content)\n",
    "\n",
    "    session_urls = []\n",
    "    \n",
    "    tags = soup.find_all(\"div\",{\"class\":\"lia-messages-message-card\"})\n",
    "    \n",
    "    for index, tag in enumerate(tags):\n",
    "        session_urls.append( base_url + tag.select(\"div > a\")[0]['href'] )\n",
    "        \n",
    "    return session_urls\n",
    "    "
   ]
  },
  {
   "cell_type": "code",
   "execution_count": null,
   "metadata": {},
   "outputs": [],
   "source": [
    "futures = client.map(get_pagefull_FL_MBAS_Gallery, range(1,13))"
   ]
  },
  {
   "cell_type": "code",
   "execution_count": null,
   "metadata": {},
   "outputs": [],
   "source": [
    "session_urls_FL_MBAS_Gallery = client.gather(futures)"
   ]
  },
  {
   "cell_type": "code",
   "execution_count": null,
   "metadata": {},
   "outputs": [],
   "source": [
    "session_urls_FL_MBAS_Gallery = list(mapcat(lambda x: x, session_urls_FL_MBAS_Gallery))"
   ]
  },
  {
   "cell_type": "code",
   "execution_count": null,
   "metadata": {},
   "outputs": [],
   "source": [
    "session_urls_FL_MBAS_Gallery = [x for x in unique(session_urls_FL_MBAS_Gallery)]"
   ]
  },
  {
   "cell_type": "code",
   "execution_count": null,
   "metadata": {},
   "outputs": [],
   "source": [
    "len(session_urls_FL_MBAS_Gallery)"
   ]
  },
  {
   "cell_type": "markdown",
   "metadata": {},
   "source": [
    "### Consolidate session URLs"
   ]
  },
  {
   "cell_type": "code",
   "execution_count": null,
   "metadata": {},
   "outputs": [],
   "source": [
    "session_urls = list(set(session_urls_PA_MBAS_Gallery + session_urls_FL_MBAS_Gallery)) "
   ]
  },
  {
   "cell_type": "code",
   "execution_count": null,
   "metadata": {},
   "outputs": [],
   "source": [
    "df = pd.DataFrame({'session_urls': session_urls})"
   ]
  },
  {
   "cell_type": "code",
   "execution_count": null,
   "metadata": {},
   "outputs": [],
   "source": [
    "df.info()"
   ]
  },
  {
   "cell_type": "markdown",
   "metadata": {},
   "source": [
    "### Unduplicate sessions"
   ]
  },
  {
   "cell_type": "code",
   "execution_count": null,
   "metadata": {},
   "outputs": [],
   "source": [
    "split_url_df = df['session_urls'].str.rpartition('/')"
   ]
  },
  {
   "cell_type": "code",
   "execution_count": null,
   "metadata": {},
   "outputs": [],
   "source": [
    "df.insert( len(df.columns), 'urlpart1', split_url_df[0])"
   ]
  },
  {
   "cell_type": "code",
   "execution_count": null,
   "metadata": {},
   "outputs": [],
   "source": [
    "df.insert( len(df.columns), 'urlpart2', split_url_df[2])"
   ]
  },
  {
   "cell_type": "code",
   "execution_count": null,
   "metadata": {},
   "outputs": [],
   "source": [
    "df.info()"
   ]
  },
  {
   "cell_type": "code",
   "execution_count": null,
   "metadata": {},
   "outputs": [],
   "source": [
    "df.to_json('session_urls_dups.json')"
   ]
  },
  {
   "cell_type": "code",
   "execution_count": null,
   "metadata": {},
   "outputs": [],
   "source": [
    "df.drop_duplicates(subset=['urlpart1'], keep='first', inplace=True)"
   ]
  },
  {
   "cell_type": "markdown",
   "metadata": {},
   "source": [
    "### Store session URLS for future reference"
   ]
  },
  {
   "cell_type": "code",
   "execution_count": null,
   "metadata": {},
   "outputs": [],
   "source": [
    "df.to_json('session_urls.json')"
   ]
  },
  {
   "cell_type": "markdown",
   "metadata": {},
   "source": [
    "### Read from storage to prevent multiple, time-consuming runs to collect session URLs"
   ]
  },
  {
   "cell_type": "code",
   "execution_count": null,
   "metadata": {},
   "outputs": [],
   "source": [
    "df = pd.read_json( 'session_urls.json')"
   ]
  },
  {
   "cell_type": "code",
   "execution_count": null,
   "metadata": {},
   "outputs": [],
   "source": [
    "df = pd.read_csv( 'session_urls.csv')"
   ]
  },
  {
   "cell_type": "markdown",
   "metadata": {},
   "source": [
    "### Get individual session data"
   ]
  },
  {
   "cell_type": "code",
   "execution_count": null,
   "metadata": {},
   "outputs": [],
   "source": [
    "def get_session_data(session_url):\n",
    "    splash_url = f\"http://localhost:8050/render.html?url={session_url}&timeout=10&wait=0.5\" \n",
    "\n",
    "    logger.debug(f\"splash_url: {splash_url}\")\n",
    "    \n",
    "    r = requests.get(splash_url) #returns the HTML of the page, can be done through urlopen as well\n",
    "\n",
    "    soup = bs4.BeautifulSoup(r.content)\n",
    "\n",
    "    tags = soup.find_all(\"div\",{\"class\":\"lia-message-subject\"})\n",
    "\n",
    "    sess_details = {}\n",
    "    \n",
    "    sess_details['session_url'] = session_url\n",
    "    \n",
    "    tag = list(tags)[0].select(\"div > div > h1\")\n",
    "    sess_details['Title: '] = tag[0].contents[len(tag[0].contents)-1] if len(list(tag)) else ''\n",
    "    #sess_details['Title: '] = list(tags)[0].select(\"div > div > h1\")[0].contents[1]\n",
    "    sess_details['Date: '] = list(tags)[0].find_all(\"span\",{\"class\":\"local-friendly-date\"})[0].contents[0].strip()\n",
    "\n",
    "\n",
    "    tags = soup.find_all(\"iframe\",{\"class\":\"videoIframe\"})\n",
    "    sess_details['Video URL: '] = list(tags)[0].get('src', '')  if len(list(tags)) else ''\n",
    "\n",
    "    tags = soup.find_all(\"div\",{\"class\":\"lia-message-body-content\"})\n",
    "\n",
    "    tag = list(tags)[0].select(\"p\")\n",
    "    sess_details['Description: '] = tag[0].contents[0] if len(list(tag)) else ''\n",
    "    \n",
    "    tag = list(tags)[0].find_all(\"span\",{\"class\":\"fileLink\"})\n",
    "    sess_details['Other resources: '] = tag[0].select(\"a\")[0].get('href', '') if len(list(tag)) else ''\n",
    "\n",
    "    tags = soup.find_all(\"div\",{\"class\":\"custom-mbas-labels\"})\n",
    "    if(len(list(tags))):\n",
    "        labels = tags[0].select(\"div.profileDetails > p > span.profilePageItemLabel\")\n",
    "        labels = [x for x in map(lambda x: x.contents[0], labels)]\n",
    "        values = tags[0].select(\"div.profileDetails > p > span.profilePageItemValue\")\n",
    "        values = [x for x in map(lambda x: x.contents[0], values)]\n",
    "\n",
    "\n",
    "    sess_details = merge(sess_details, dict(zip(labels, values)))\n",
    "\n",
    "    return sess_details"
   ]
  },
  {
   "cell_type": "code",
   "execution_count": null,
   "metadata": {},
   "outputs": [],
   "source": [
    "# Create a list of dictionaries (each for a single session page)\n",
    "LD = [get_session_data(x) for x in df.iloc[0:-1, 0]]"
   ]
  },
  {
   "cell_type": "code",
   "execution_count": null,
   "metadata": {},
   "outputs": [],
   "source": [
    "# Convert list of dictionaries to dictionary of lists\n",
    "v = {k: [dic.get(k, '')  for dic in LD] for k in LD[0]}"
   ]
  },
  {
   "cell_type": "code",
   "execution_count": null,
   "metadata": {},
   "outputs": [],
   "source": [
    "# Convert dictionary of lists to pandas dataframe\n",
    "df_final = pd.DataFrame(v)"
   ]
  },
  {
   "cell_type": "code",
   "execution_count": null,
   "metadata": {},
   "outputs": [],
   "source": [
    "df_final.head()"
   ]
  },
  {
   "cell_type": "code",
   "execution_count": null,
   "metadata": {},
   "outputs": [],
   "source": [
    "df_final.to_json('session_data.json')"
   ]
  },
  {
   "cell_type": "code",
   "execution_count": null,
   "metadata": {},
   "outputs": [],
   "source": [
    "len(df_final.index)"
   ]
  },
  {
   "cell_type": "code",
   "execution_count": null,
   "metadata": {},
   "outputs": [],
   "source": []
  }
 ],
 "metadata": {
  "kernelspec": {
   "display_name": "Python 3",
   "language": "python",
   "name": "python3"
  },
  "language_info": {
   "codemirror_mode": {
    "name": "ipython",
    "version": 3
   },
   "file_extension": ".py",
   "mimetype": "text/x-python",
   "name": "python",
   "nbconvert_exporter": "python",
   "pygments_lexer": "ipython3",
   "version": "3.6.8"
  }
 },
 "nbformat": 4,
 "nbformat_minor": 2
}
