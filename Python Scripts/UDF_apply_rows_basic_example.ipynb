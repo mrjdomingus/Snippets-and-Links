{
 "cells": [
  {
   "cell_type": "markdown",
   "metadata": {},
   "source": [
    "See blog post: [https://medium.com/rapids-ai/user-defined-functions-in-rapids-cudf-2d7c3fc2728d](https://medium.com/rapids-ai/user-defined-functions-in-rapids-cudf-2d7c3fc2728d)"
   ]
  },
  {
   "cell_type": "code",
   "execution_count": null,
   "metadata": {},
   "outputs": [],
   "source": [
    "from math import cos, sin, asin, sqrt, pi\n",
    "\n",
    "import cudf\n",
    "import numpy as np\n",
    "from numba import cuda"
   ]
  },
  {
   "cell_type": "code",
   "execution_count": null,
   "metadata": {},
   "outputs": [],
   "source": [
    "np.random.seed(12)\n",
    "data_length = 1000\n",
    "\n",
    "df = cudf.DataFrame()\n",
    "df['lat1'] = np.random.normal(10, 1, data_length)\n",
    "df['lon1'] = np.random.normal(10, 1, data_length)\n",
    "df['lat2'] = np.random.normal(10, 1, data_length)\n",
    "df['lon2'] = np.random.normal(10, 1, data_length)"
   ]
  },
  {
   "cell_type": "code",
   "execution_count": null,
   "metadata": {},
   "outputs": [],
   "source": [
    "def haversine_distance_kernel(lat1, lon1, lat2, lon2, out):\n",
    "    \"\"\"Haversine distance formula taken from Michael Dunn's StackOverflow post:\n",
    "    https://stackoverflow.com/questions/4913349/haversine-formula-in-python-bearing-and-distance-between-two-gps-points\n",
    "    \"\"\"\n",
    "    for i, (x_1, y_1, x_2, y_2) in enumerate(zip(lat1, lon1, lat2, lon2)):\n",
    "#         print('thread_id:', cuda.threadIdx.x, 'bid:', cuda.blockIdx.x,\n",
    "#               'array size:', lat1.size, 'block threads:', cuda.blockDim.x, 'i:', i)\n",
    "\n",
    "        x_1 = pi/180 * x_1\n",
    "        y_1 = pi/180 * y_1\n",
    "        x_2 = pi/180 * x_2\n",
    "        y_2 = pi/180 * y_2\n",
    "        \n",
    "        dlon = y_2 - y_1\n",
    "        dlat = x_2 - x_1\n",
    "        a = sin(dlat/2)**2 + cos(x_1) * cos(x_2) * sin(dlon/2)**2\n",
    "        \n",
    "        c = 2 * asin(sqrt(a)) \n",
    "        r = 6371 # Radius of earth in kilometers\n",
    "        \n",
    "        out[i] = c * r\n",
    "    print('thread_id:', cuda.threadIdx.x, 'bid:', cuda.blockIdx.x,\n",
    "          'array size:', lat1.size, 'block threads:', cuda.blockDim.x, ' ran ', i+1, ' times.')\n",
    "    "
   ]
  },
  {
   "cell_type": "markdown",
   "metadata": {},
   "source": [
    "On my RTX 2070, **apply_rows** will create **15** blocks with **64** threads each, where most of the threads will execute the kernel function once (to process 15 x 64 = **960** entries). However 40 threads of block _0_ will run twice to cover the remaining 1000 - 960 = **40** entries."
   ]
  },
  {
   "cell_type": "code",
   "execution_count": null,
   "metadata": {},
   "outputs": [],
   "source": [
    "df = df.apply_rows(haversine_distance_kernel,\n",
    "                   incols=['lat1', 'lon1', 'lat2', 'lon2'],\n",
    "                   outcols=dict(out=np.float64),\n",
    "                   kwargs=dict())"
   ]
  },
  {
   "cell_type": "code",
   "execution_count": null,
   "metadata": {},
   "outputs": [],
   "source": [
    "print(df.head())"
   ]
  },
  {
   "cell_type": "markdown",
   "metadata": {},
   "source": [
    "### _Note: print statements in kernels will only appear in terminal output; Jupyter Notebooks won't display them_\n",
    "### _Sample print statement output:_\n",
    "```\n",
    "thread_id: 61 bid: 2 array size: 1 block threads: 64  ran  1  times.\n",
    "thread_id: 62 bid: 2 array size: 1 block threads: 64  ran  1  times.\n",
    "thread_id: 63 bid: 2 array size: 1 block threads: 64  ran  1  times.\n",
    "thread_id: 0 bid: 0 array size: 2 block threads: 64  ran  2  times.\n",
    "thread_id: 1 bid: 0 array size: 2 block threads: 64  ran  2  times.\n",
    "thread_id: 2 bid: 0 array size: 2 block threads: 64  ran  2  times.\n",
    "thread_id: 3 bid: 0 array size: 2 block threads: 64  ran  2  times.\n",
    "thread_id: 4 bid: 0 array size: 2 block threads: 64  ran  2  times.\n",
    "thread_id: 5 bid: 0 array size: 2 block threads: 64  ran  2  times.\n",
    "thread_id: 6 bid: 0 array size: 2 block threads: 64  ran  2  times.\n",
    "thread_id: 7 bid: 0 array size: 2 block threads: 64  ran  2  times.\n",
    "thread_id: 8 bid: 0 array size: 2 block threads: 64  ran  2  times.\n",
    "thread_id: 9 bid: 0 array size: 2 block threads: 64  ran  2  times.\n",
    "thread_id: 10 bid: 0 array size: 2 block threads: 64  ran  2  times.\n",
    "thread_id: 11 bid: 0 array size: 2 block threads: 64  ran  2  times.\n",
    "...\n",
    "```"
   ]
  },
  {
   "cell_type": "code",
   "execution_count": null,
   "metadata": {},
   "outputs": [],
   "source": []
  }
 ],
 "metadata": {
  "kernelspec": {
   "display_name": "Python 3",
   "language": "python",
   "name": "python3"
  },
  "language_info": {
   "codemirror_mode": {
    "name": "ipython",
    "version": 3
   },
   "file_extension": ".py",
   "mimetype": "text/x-python",
   "name": "python",
   "nbconvert_exporter": "python",
   "pygments_lexer": "ipython3",
   "version": "3.6.8"
  }
 },
 "nbformat": 4,
 "nbformat_minor": 2
}
