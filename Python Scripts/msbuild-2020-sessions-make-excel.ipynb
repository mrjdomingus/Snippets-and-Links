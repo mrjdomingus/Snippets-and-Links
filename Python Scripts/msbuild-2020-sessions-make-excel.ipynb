{
 "cells": [
  {
   "cell_type": "code",
   "execution_count": null,
   "metadata": {},
   "outputs": [],
   "source": [
    "import pandas as pd\n",
    "import numpy as np\n",
    "from pandas.io.json import json_normalize"
   ]
  },
  {
   "cell_type": "markdown",
   "metadata": {},
   "source": [
    "# Tip\n",
    "Repeat API POST call to https://api.mybuild.microsoft.com/api/session/search with the following JSON body (adjust searchPage as needed):\n",
    "```\n",
    "{\n",
    "    \"itemsPerPage\": 100,\n",
    "    \"searchText\": \"*\",\n",
    "    \"searchPage\": 1,\n",
    "    \"sortOption\": \"Chronological\",\n",
    "    \"searchFacets\": {\n",
    "        \"facets\": [],\n",
    "        \"personalizationFacets\": [],\n",
    "        \"dateFacet\": [\n",
    "            {\n",
    "                \"startDateTime\": \"2020-05-19T15:00:00.000Z\",\n",
    "                \"endDateTime\": \"2020-05-19T21:59:00.000Z\"\n",
    "            },\n",
    "            {\n",
    "                \"startDateTime\": \"2020-05-19T22:00:00.000Z\",\n",
    "                \"endDateTime\": \"2020-05-20T07:00:00.000Z\"\n",
    "            },\n",
    "            {\n",
    "                \"startDateTime\": \"2020-05-20T07:00:00.000Z\",\n",
    "                \"endDateTime\": \"2020-05-20T21:59:00.000Z\"\n",
    "            },\n",
    "            {\n",
    "                \"startDateTime\": \"2020-05-20T22:00:00.000Z\",\n",
    "                \"endDateTime\": \"2020-05-21T07:00:00.000Z\"\n",
    "            },\n",
    "            {\n",
    "                \"startDateTime\": \"2020-05-21T07:00:00.000Z\",\n",
    "                \"endDateTime\": \"2020-05-21T14:59:00.000Z\"\n",
    "            }\n",
    "        ]\n",
    "    },\n",
    "    \"recommendedItemIds\": [],\n",
    "    \"favoritesIds\": [],\n",
    "    \"mustHaveOnDemandVideo\": false,\n",
    "    \"mustHaveAvailableRsvp\": false\n",
    "}\n",
    "```\n",
    "\n",
    "Consolidate `data` arrays in a single json-file."
   ]
  },
  {
   "cell_type": "code",
   "execution_count": null,
   "metadata": {},
   "outputs": [],
   "source": [
    "filename = 'C:/DDD/msbuild2020'"
   ]
  },
  {
   "cell_type": "code",
   "execution_count": null,
   "metadata": {},
   "outputs": [],
   "source": [
    "df = pd.read_json(f\"{filename}.json\")"
   ]
  },
  {
   "cell_type": "code",
   "execution_count": null,
   "metadata": {},
   "outputs": [],
   "source": [
    "df.info()"
   ]
  },
  {
   "cell_type": "code",
   "execution_count": null,
   "metadata": {},
   "outputs": [],
   "source": [
    "df.head()"
   ]
  },
  {
   "cell_type": "code",
   "execution_count": null,
   "metadata": {},
   "outputs": [],
   "source": [
    "df2 = pd.concat(list(df['data'].apply(lambda x: json_normalize(x))))"
   ]
  },
  {
   "cell_type": "code",
   "execution_count": null,
   "metadata": {},
   "outputs": [],
   "source": [
    "df2.head()"
   ]
  },
  {
   "cell_type": "code",
   "execution_count": null,
   "metadata": {},
   "outputs": [],
   "source": [
    "df2.to_excel(f\"{filename}.xlsx\")"
   ]
  }
 ],
 "metadata": {
  "kernelspec": {
   "display_name": "Python 3",
   "language": "python",
   "name": "python3"
  },
  "language_info": {
   "codemirror_mode": {
    "name": "ipython",
    "version": 3
   },
   "file_extension": ".py",
   "mimetype": "text/x-python",
   "name": "python",
   "nbconvert_exporter": "python",
   "pygments_lexer": "ipython3",
   "version": "3.7.4"
  }
 },
 "nbformat": 4,
 "nbformat_minor": 4
}
