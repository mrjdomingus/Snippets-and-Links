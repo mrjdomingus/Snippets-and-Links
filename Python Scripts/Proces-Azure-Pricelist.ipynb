{
 "cells": [
  {
   "cell_type": "code",
   "execution_count": null,
   "metadata": {},
   "outputs": [],
   "source": [
    "import pandas as pd\n",
    "import cudf\n",
    "\n",
    "from sqlalchemy import create_engine\n",
    "import urllib\n",
    "import numpy as np\n",
    "from numba import cuda"
   ]
  },
  {
   "cell_type": "code",
   "execution_count": null,
   "metadata": {},
   "outputs": [],
   "source": [
    "params = urllib.parse.quote_plus(\"DRIVER={ODBC Driver 17 for SQL Server};\"\n",
    "                                 \"SERVER=localhost;\"\n",
    "                                 \"DATABASE=<DB>;\"\n",
    "                                 \"Uid=<user>;\"\n",
    "                                 \"Pwd=<pwd>\"\n",
    "                                )"
   ]
  },
  {
   "cell_type": "code",
   "execution_count": null,
   "metadata": {},
   "outputs": [],
   "source": [
    "# Connect via current Windows credentials\n",
    "conn = create_engine(\"mssql+pyodbc:///?odbc_connect={}\".format(params))\n",
    "conn"
   ]
  },
  {
   "cell_type": "code",
   "execution_count": null,
   "metadata": {},
   "outputs": [],
   "source": [
    "table_name = \"AzureCSPPriceList\""
   ]
  },
  {
   "cell_type": "code",
   "execution_count": null,
   "metadata": {},
   "outputs": [],
   "source": [
    "pdf = pd.read_sql(f\"SELECT ResourceID, Region, [Month], IncludedQuantities, MinimumValue, EUR  FROM {table_name} ORDER BY ResourceID, Region, Month, MinimumValue\", \n",
    "                 conn)"
   ]
  },
  {
   "cell_type": "code",
   "execution_count": null,
   "metadata": {},
   "outputs": [],
   "source": [
    "pdf.info()"
   ]
  },
  {
   "cell_type": "markdown",
   "metadata": {},
   "source": [
    "### Convert to cudf dataframe"
   ]
  },
  {
   "cell_type": "code",
   "execution_count": null,
   "metadata": {},
   "outputs": [],
   "source": [
    "cdf = cudf.from_pandas(pdf)"
   ]
  },
  {
   "cell_type": "code",
   "execution_count": null,
   "metadata": {},
   "outputs": [],
   "source": [
    "# Are cdf and pdf the same?\n",
    "cdf.to_pandas().info()"
   ]
  },
  {
   "cell_type": "markdown",
   "metadata": {},
   "source": [
    "### Check for nulls / nans and fix if so"
   ]
  },
  {
   "cell_type": "code",
   "execution_count": null,
   "metadata": {},
   "outputs": [],
   "source": [
    "cdf.to_pandas().isnull().any()"
   ]
  },
  {
   "cell_type": "code",
   "execution_count": null,
   "metadata": {},
   "outputs": [],
   "source": [
    "cdf['IncludedQuantities'].fillna(0, inplace=True)"
   ]
  },
  {
   "cell_type": "code",
   "execution_count": null,
   "metadata": {},
   "outputs": [],
   "source": [
    "cdf['EUR'].fillna(0, inplace=True)"
   ]
  },
  {
   "cell_type": "code",
   "execution_count": null,
   "metadata": {},
   "outputs": [],
   "source": [
    "cdf.to_pandas().isnull().any()"
   ]
  },
  {
   "cell_type": "markdown",
   "metadata": {},
   "source": [
    "### Lowercase some fields"
   ]
  },
  {
   "cell_type": "code",
   "execution_count": null,
   "metadata": {},
   "outputs": [],
   "source": [
    "cdf['ResourceID'] = cdf['ResourceID'].str.lower()"
   ]
  },
  {
   "cell_type": "code",
   "execution_count": null,
   "metadata": {},
   "outputs": [],
   "source": [
    "cdf['Region'] = cdf['Region'].str.lower()"
   ]
  },
  {
   "cell_type": "markdown",
   "metadata": {},
   "source": [
    "### Calculate hashes for grouping"
   ]
  },
  {
   "cell_type": "code",
   "execution_count": null,
   "metadata": {},
   "outputs": [],
   "source": [
    "cdf['ResourceHash'] = cdf.hash_columns(['ResourceID', 'Region', 'Month'])"
   ]
  },
  {
   "cell_type": "code",
   "execution_count": null,
   "metadata": {},
   "outputs": [],
   "source": [
    "cdf['ResourceIDHash'] = cdf.hash_columns(['ResourceID'])"
   ]
  },
  {
   "cell_type": "markdown",
   "metadata": {},
   "source": [
    "### Group by ResourceHash to isolate the pricelist for a single resource in a single month"
   ]
  },
  {
   "cell_type": "code",
   "execution_count": null,
   "metadata": {},
   "outputs": [],
   "source": [
    "groups = cdf.groupby(['ResourceHash'], method='cudf')\n",
    "\n",
    "df_groups = groups.as_df()\n",
    "\n",
    "# DataFrame indexes of group starts\n",
    "print(df_groups[1])\n",
    "\n",
    "# DataFrame of groups itself\n",
    "print(df_groups[0])"
   ]
  },
  {
   "cell_type": "code",
   "execution_count": null,
   "metadata": {},
   "outputs": [],
   "source": [
    "# How many chunks?\n",
    "print(len(df_groups[1]))"
   ]
  },
  {
   "cell_type": "markdown",
   "metadata": {},
   "source": [
    "### Calculate some extra info per price line"
   ]
  },
  {
   "cell_type": "markdown",
   "metadata": {},
   "source": [
    "The below python function will be wrapped in below numba CUDA kernel function.\n",
    "\n",
    "_Note that the CUDA grid and block parameters could be fed to the python function via the kwargs parameter, if desired._\n",
    "\n",
    "```\n",
    "def chunk_wise_kernel(nrows, chunks, __user_EUR, __user_MinimumValue, __user_UpperBound, __user_StartValue):\n",
    "    blkid = cuda.blockIdx.x\n",
    "    nblkid = cuda.gridDim.x\n",
    "    tid = cuda.threadIdx.x\n",
    "    ntid = cuda.blockDim.x\n",
    "    for curblk in range(blkid, chunks.size, nblkid):\n",
    "        start = chunks[curblk]\n",
    "        stop = chunks[curblk + 1] if curblk + 1 < chunks.size else nrows\n",
    "        inner(__user_EUR[start:stop], __user_MinimumValue[start:stop], __user_UpperBound[start:stop],\n",
    "              __user_StartValue[start:stop])\n",
    "```"
   ]
  },
  {
   "cell_type": "markdown",
   "metadata": {},
   "source": [
    "### Implementation using cudf DataFrame.apply_chunks"
   ]
  },
  {
   "cell_type": "code",
   "execution_count": null,
   "metadata": {},
   "outputs": [],
   "source": [
    "# Define a function to apply to each group\n",
    "\n",
    "def grpfunc(EUR, MinimumValue, upper_limit, interval_value, cum_value):\n",
    "    if cuda.threadIdx.x == 0:\n",
    "        count = len(EUR)\n",
    "\n",
    "        if count == 1:\n",
    "            upper_limit[0] = 1e100\n",
    "            interval_value[0] = 0.0\n",
    "            cum_value[0] = 0.0\n",
    "        elif count > 1:\n",
    "            for i in range(count-1):\n",
    "                upper_limit[i] = MinimumValue[i+1]\n",
    "                interval_value[i] = EUR[i] * \\\n",
    "                    (MinimumValue[i+1] - MinimumValue[i])\n",
    "\n",
    "                if i == 0:\n",
    "                    cum_value[i] = 0.0\n",
    "                else:\n",
    "                    cum_value[i] = interval_value[i-1] + cum_value[i-1]\n",
    "            # Special handling of last entry\n",
    "            upper_limit[count-1] = 1e100\n",
    "            interval_value[count-1] = 1e100\n",
    "            cum_value[count-1] = interval_value[count-1-1] + cum_value[count-1-1]\n",
    "        else:\n",
    "            # Should not happen, unless input column EUR contains nulls\n",
    "            print(\"len(EUR): \", len(EUR))\n",
    "\n",
    "# Run kernel function by group chunk\n",
    "result = df_groups[0].apply_chunks(grpfunc,\n",
    "                                   incols=['EUR', 'MinimumValue'],\n",
    "                                   outcols={'upper_limit': np.float64, 'interval_value': np.float64, 'cum_value': np.float64},\n",
    "                                   kwargs={},\n",
    "                                   chunks=df_groups[1],\n",
    "                                   # threads per block\n",
    "                                   tpb=1)\n",
    "\n",
    "print(result)"
   ]
  },
  {
   "cell_type": "markdown",
   "metadata": {},
   "source": [
    "### Alternative implementation using GroupBy.apply_grouped"
   ]
  },
  {
   "cell_type": "code",
   "execution_count": null,
   "metadata": {},
   "outputs": [],
   "source": [
    "# Define a function to apply to each group\n",
    "\n",
    "def grpfunc(EUR, MinimumValue, upper_limit, interval_value, cum_value):\n",
    "    if cuda.threadIdx.x == 0:\n",
    "        count = len(EUR)\n",
    "\n",
    "        if count == 1:\n",
    "            upper_limit[0] = 1e100\n",
    "            interval_value[0] = 0.0\n",
    "            cum_value[0] = 0.0\n",
    "        elif count > 1:\n",
    "            for i in range(count-1):\n",
    "                upper_limit[i] = MinimumValue[i+1]\n",
    "                interval_value[i] = EUR[i] * \\\n",
    "                    (MinimumValue[i+1] - MinimumValue[i])\n",
    "\n",
    "                if i == 0:\n",
    "                    cum_value[i] = 0.0\n",
    "                else:\n",
    "                    cum_value[i] = interval_value[i-1] + cum_value[i-1]\n",
    "            # Special handling of last entry\n",
    "            upper_limit[count-1] = 1e100\n",
    "            interval_value[count-1] = 1e100\n",
    "            cum_value[count-1] = interval_value[count-1-1] + cum_value[count-1-1]\n",
    "        else:\n",
    "            # Should not happen, unless input column EUR contains nulls\n",
    "            print(\"len(EUR): \", len(EUR))\n",
    "\n",
    "# Run kernel function by group chunk\n",
    "result = groups.apply_grouped(grpfunc,\n",
    "                                   incols=['EUR', 'MinimumValue'],\n",
    "                                   outcols={'upper_limit': np.float64, 'interval_value': np.float64, 'cum_value': np.float64},\n",
    "                                   # threads per block\n",
    "                                   tpb=1)\n",
    "\n",
    "print(result)"
   ]
  },
  {
   "cell_type": "markdown",
   "metadata": {},
   "source": [
    "### Write to SQL table"
   ]
  },
  {
   "cell_type": "code",
   "execution_count": null,
   "metadata": {},
   "outputs": [],
   "source": [
    "tablename = 'AzureCSPPriceList_Extra'"
   ]
  },
  {
   "cell_type": "code",
   "execution_count": null,
   "metadata": {},
   "outputs": [],
   "source": [
    "result.to_pandas().to_sql(name=tablename, con=conn, index=False, if_exists=\"replace\")"
   ]
  },
  {
   "cell_type": "code",
   "execution_count": null,
   "metadata": {},
   "outputs": [],
   "source": []
  }
 ],
 "metadata": {
  "kernelspec": {
   "display_name": "Python 3",
   "language": "python",
   "name": "python3"
  },
  "language_info": {
   "codemirror_mode": {
    "name": "ipython",
    "version": 3
   },
   "file_extension": ".py",
   "mimetype": "text/x-python",
   "name": "python",
   "nbconvert_exporter": "python",
   "pygments_lexer": "ipython3",
   "version": "3.7.2"
  }
 },
 "nbformat": 4,
 "nbformat_minor": 2
}
