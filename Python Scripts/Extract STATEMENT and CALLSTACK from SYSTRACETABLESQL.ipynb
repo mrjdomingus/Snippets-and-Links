{
 "cells": [
  {
   "cell_type": "markdown",
   "metadata": {},
   "source": [
    "# Do not store credentials and ID's of any kind in version control!"
   ]
  },
  {
   "cell_type": "markdown",
   "metadata": {},
   "source": [
    "# Retrieve STATEMENT and CALLSTACK from SYSTRACETABLESQL records\n",
    "\n",
    "Also see: [https://docs.sqlalchemy.org/en/latest/dialects/mssql.html](https://docs.sqlalchemy.org/en/latest/dialects/mssql.html)"
   ]
  },
  {
   "cell_type": "code",
   "execution_count": null,
   "metadata": {},
   "outputs": [],
   "source": [
    "import pandas as pd\n",
    "from sqlalchemy import create_engine\n",
    "import urllib\n",
    "import requests\n",
    "import json\n",
    "from openpyxl import load_workbook\n",
    "from openpyxl.utils.cell import rows_from_range\n",
    "from openpyxl.utils.dataframe import dataframe_to_rows\n",
    "from openpyxl.worksheet.table import Table, TableStyleInfo"
   ]
  },
  {
   "cell_type": "markdown",
   "metadata": {},
   "source": [
    "# Define function to extract fields from SYSTRACETABLESQL in SQL Server"
   ]
  },
  {
   "cell_type": "code",
   "execution_count": null,
   "metadata": {},
   "outputs": [],
   "source": [
    "def get_ax_trace_info( recid, db, trace_table = 'SYSTRACETABLESQL'):\n",
    "    params = urllib.parse.quote_plus(f\"DRIVER={{SQL Server Native Client 11.0}};\"\n",
    "                                 f\"SERVER=localhost;\"\n",
    "                                 f\"DATABASE={db};\"\n",
    "                                 f\"Trusted_Connection=yes\")\n",
    "    # Connect via current Windows credentials\n",
    "    conn = create_engine(\"mssql+pyodbc:///?odbc_connect={}\".format(params))\n",
    "    \n",
    "    df = pd.read_sql(f\"SELECT TOP 1 STATEMENT, CALLSTACK FROM {trace_table} WHERE RECID = {recid}\", conn)\n",
    "    \n",
    "    # Convert multi line CALLSTACK into list while dropping empty line (at the end)\n",
    "    if df.loc[0, 'CALLSTACK'] is not None:\n",
    "        callstack_list = df.loc[0, 'CALLSTACK'].split('\\n')\n",
    "        callstack_list = [x for x in callstack_list if len(x) > 0]\n",
    "    else:\n",
    "        callstack_list = ['']\n",
    "        \n",
    "    # let sql-format.com format STATEMENT and convert (multi-line) result into list\n",
    "    payload_dict = {'text': df.loc[0, 'STATEMENT'], 'options': '{}', 'caretPosition[x]': 0, 'caretPosition[y]': 0, 'saveHistory': 'true' }\n",
    "    r = requests.post(\"http://sql-format.com\", data=payload_dict)\n",
    "    formatted_sql = json.loads(r.text)\n",
    "    # Convert formatted sql to list\n",
    "    formatted_sql_list = formatted_sql['Text'].split('\\r\\n')\n",
    "    # If error then add error message to list\n",
    "    if formatted_sql['ErrorInfo']:\n",
    "        formatted_sql_list.append(formatted_sql['ErrorInfo']['ErrorMessage'])\n",
    "    \n",
    "    # Return dict with statement and call stack\n",
    "    return {\n",
    "        'statement': pd.DataFrame(data={'SQL': formatted_sql_list }),\n",
    "        'callstack': pd.DataFrame(data={'Call stack': callstack_list }),\n",
    "    }\n",
    "    "
   ]
  },
  {
   "cell_type": "code",
   "execution_count": null,
   "metadata": {},
   "outputs": [],
   "source": [
    "dict = get_ax_trace_info( recid = 5637152900, db = 'METADATADB')"
   ]
  },
  {
   "cell_type": "code",
   "execution_count": null,
   "metadata": {},
   "outputs": [],
   "source": [
    "# dict[ 'statement']"
   ]
  },
  {
   "cell_type": "code",
   "execution_count": null,
   "metadata": {},
   "outputs": [],
   "source": [
    "# dict[ 'callstack']"
   ]
  },
  {
   "cell_type": "code",
   "execution_count": null,
   "metadata": {},
   "outputs": [],
   "source": [
    "# Process RecIds in workbook \"Long running queries analyse.xlsx\" "
   ]
  },
  {
   "cell_type": "code",
   "execution_count": null,
   "metadata": {},
   "outputs": [],
   "source": [
    "xlsx_file = 'Workbook-containing-range-named-RecIds.xlsx'"
   ]
  },
  {
   "cell_type": "code",
   "execution_count": null,
   "metadata": {},
   "outputs": [],
   "source": [
    "wb = load_workbook(xlsx_file)\n",
    "RecIds_range = wb.defined_names['RecIds']"
   ]
  },
  {
   "cell_type": "code",
   "execution_count": null,
   "metadata": {},
   "outputs": [],
   "source": [
    "dests = RecIds_range.destinations # returns a generator of (worksheet title, cell range) tuples\n",
    "\n",
    "for title, coord in dests:\n",
    "    print( title, coord )\n",
    "    ws = wb[title]\n",
    "    for address in rows_from_range(coord):\n",
    "        print(address)\n",
    "        recid = ws[address[0]].value\n",
    "        print(recid)\n",
    "        trace_info_dict = get_ax_trace_info( recid = recid, db = 'METADATADB')\n",
    "        #print(trace_info_dict['callstack'])\n",
    "        new_ws = wb.create_sheet(f\"{recid}\")\n",
    "        concat_df = pd.concat([trace_info_dict['statement'], trace_info_dict['callstack']], axis=1, ignore_index=True)\n",
    "        concat_df.columns = ['SQL', 'Callstack']\n",
    "        for r in dataframe_to_rows(concat_df, index=False, header=True):\n",
    "            new_ws.append(r)\n",
    "        \n",
    "        tab = Table(displayName=f\"Table{recid}\", ref=new_ws.calculate_dimension())\n",
    "        # Add a default style with striped rows and banded columns\n",
    "        style = TableStyleInfo(name=\"TableStyleMedium2\", showFirstColumn=False,\n",
    "            showLastColumn=False, showRowStripes=True, showColumnStripes=False)\n",
    "        tab.tableStyleInfo = style\n",
    "        new_ws.add_table(tab)\n",
    "\n",
    "        # Resize columns\n",
    "        dims = {}\n",
    "        for row in new_ws.rows:\n",
    "            for cell in row:\n",
    "                if cell.value:\n",
    "                    dims[cell.column] = max((dims.get(cell.column, 0), len(str(cell.value))))    \n",
    "        for col, value in dims.items():\n",
    "            new_ws.column_dimensions[col].width = value\n",
    "            \n",
    "    print('Done with for loop!')\n",
    "\n",
    "wb.save(xlsx_file)        \n",
    "wb.close()     "
   ]
  },
  {
   "cell_type": "code",
   "execution_count": null,
   "metadata": {},
   "outputs": [],
   "source": []
  }
 ],
 "metadata": {
  "kernelspec": {
   "display_name": "Python 3",
   "language": "python",
   "name": "python3"
  },
  "language_info": {
   "codemirror_mode": {
    "name": "ipython",
    "version": 3
   },
   "file_extension": ".py",
   "mimetype": "text/x-python",
   "name": "python",
   "nbconvert_exporter": "python",
   "pygments_lexer": "ipython3",
   "version": "3.6.6"
  }
 },
 "nbformat": 4,
 "nbformat_minor": 2
}
